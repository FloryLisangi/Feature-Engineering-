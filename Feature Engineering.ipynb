{
 "cells": [
  {
   "cell_type": "markdown",
   "metadata": {
    "colab_type": "text",
    "id": "G8NIiBFS5JJc"
   },
   "source": [
    "<div id=\"container\" style=\"position:relative;\">\n",
    "<div style=\"float:left\"><h1> Feature Engineering </h1></div>\n",
    "<div style=\"position:relative; float:right\"><img style=\"height:65px\" src =\"https://drive.google.com/uc?export=view&id=1EnB0x-fdqMp6I5iMoEBBEuxB_s7AmE2k\" />\n",
    "</div>\n",
    "</div>"
   ]
  },
  {
   "cell_type": "markdown",
   "metadata": {
    "colab_type": "text",
    "id": "Si_BDFT65JJd"
   },
   "source": [
    "The most important part of any model, whether it's a machine learning one or a statistical one, is the data.\n",
    "\n",
    "We have seen many data sets, but a key part of a data scientist's job is to determine which parts are relevant to our desired outcome. When we run models, we want the most simple model possible with the most predictive power. If we could distill the cause of more sales down to a change in one or two variables like price and rain, we have a lot more predictive power and leverage than if it turns out to be a function of several thousand variables.\n",
    "\n",
    "That said, sometimes the best way to explain data is the thousand variable model. The key is confirming that this is the case.\n",
    "\n",
    "Choosing and engineering which features to include in a model is a lot like making an argument for a debate or essay. There are a lot of things of varying relevance that could be included, but the key is choosing the correct ones, synthesizing different arguments into one, and modeling them correctly.\n",
    "\n",
    "Oftentimes, a successful model is not determined by the exact method chosen to model the outcome, but by the data and features used to create it. The first part of a successful model is usually choosing, adding, and constructing new features."
   ]
  },
  {
   "cell_type": "markdown",
   "metadata": {
    "colab_type": "text",
    "id": "KZL-rqhw5JJe"
   },
   "source": [
    "### Constructed Features\n",
    "\n",
    "As we've progressed through the course, we've seen several data sets which we've taken as given. In practice, we might receive a data set from a client or data source that has only the most proximate data to a model, or where what the model might be is not always as clear.\n",
    "\n",
    "For example, BrainStation Retail has provided an aggregated set of their transaction data, on which they want to be able to make predictions about total revenue across their different worldwide markets:"
   ]
  },
  {
   "cell_type": "code",
   "execution_count": 1,
   "metadata": {},
   "outputs": [
    {
     "data": {
      "text/html": [
       "<div>\n",
       "<style scoped>\n",
       "    .dataframe tbody tr th:only-of-type {\n",
       "        vertical-align: middle;\n",
       "    }\n",
       "\n",
       "    .dataframe tbody tr th {\n",
       "        vertical-align: top;\n",
       "    }\n",
       "\n",
       "    .dataframe thead th {\n",
       "        text-align: right;\n",
       "    }\n",
       "</style>\n",
       "<table border=\"1\" class=\"dataframe\">\n",
       "  <thead>\n",
       "    <tr style=\"text-align: right;\">\n",
       "      <th></th>\n",
       "      <th>order_date</th>\n",
       "      <th>ship_date</th>\n",
       "      <th>ship_mode</th>\n",
       "      <th>Market</th>\n",
       "      <th>Category</th>\n",
       "      <th>subcategory</th>\n",
       "      <th>order_priority</th>\n",
       "      <th>sales</th>\n",
       "      <th>quantity</th>\n",
       "      <th>profit</th>\n",
       "      <th>shipping_cost</th>\n",
       "    </tr>\n",
       "  </thead>\n",
       "  <tbody>\n",
       "    <tr>\n",
       "      <th>0</th>\n",
       "      <td>2011-01-01</td>\n",
       "      <td>2011-01-05</td>\n",
       "      <td>Second Class</td>\n",
       "      <td>EMEA</td>\n",
       "      <td>Office Supplies</td>\n",
       "      <td>Storage</td>\n",
       "      <td>High</td>\n",
       "      <td>66.12</td>\n",
       "      <td>4</td>\n",
       "      <td>29.64</td>\n",
       "      <td>8.17</td>\n",
       "    </tr>\n",
       "    <tr>\n",
       "      <th>1</th>\n",
       "      <td>2011-01-01</td>\n",
       "      <td>2011-01-05</td>\n",
       "      <td>Second Class</td>\n",
       "      <td>EU</td>\n",
       "      <td>Office Supplies</td>\n",
       "      <td>Paper</td>\n",
       "      <td>High</td>\n",
       "      <td>44.87</td>\n",
       "      <td>3</td>\n",
       "      <td>-26.06</td>\n",
       "      <td>4.82</td>\n",
       "    </tr>\n",
       "    <tr>\n",
       "      <th>2</th>\n",
       "      <td>2011-01-01</td>\n",
       "      <td>2011-01-06</td>\n",
       "      <td>Standard Class</td>\n",
       "      <td>Africa</td>\n",
       "      <td>Office Supplies</td>\n",
       "      <td>Storage</td>\n",
       "      <td>Medium</td>\n",
       "      <td>408.30</td>\n",
       "      <td>2</td>\n",
       "      <td>106.14</td>\n",
       "      <td>35.46</td>\n",
       "    </tr>\n",
       "    <tr>\n",
       "      <th>3</th>\n",
       "      <td>2011-01-01</td>\n",
       "      <td>2011-01-08</td>\n",
       "      <td>Standard Class</td>\n",
       "      <td>APAC</td>\n",
       "      <td>Furniture</td>\n",
       "      <td>Furnishings</td>\n",
       "      <td>Medium</td>\n",
       "      <td>113.67</td>\n",
       "      <td>5</td>\n",
       "      <td>37.77</td>\n",
       "      <td>4.70</td>\n",
       "    </tr>\n",
       "    <tr>\n",
       "      <th>4</th>\n",
       "      <td>2011-01-01</td>\n",
       "      <td>2011-01-08</td>\n",
       "      <td>Standard Class</td>\n",
       "      <td>APAC</td>\n",
       "      <td>Office Supplies</td>\n",
       "      <td>Paper</td>\n",
       "      <td>Medium</td>\n",
       "      <td>55.24</td>\n",
       "      <td>2</td>\n",
       "      <td>15.34</td>\n",
       "      <td>1.80</td>\n",
       "    </tr>\n",
       "  </tbody>\n",
       "</table>\n",
       "</div>"
      ],
      "text/plain": [
       "  order_date  ship_date       ship_mode  Market         Category  subcategory  \\\n",
       "0 2011-01-01 2011-01-05    Second Class    EMEA  Office Supplies      Storage   \n",
       "1 2011-01-01 2011-01-05    Second Class      EU  Office Supplies        Paper   \n",
       "2 2011-01-01 2011-01-06  Standard Class  Africa  Office Supplies      Storage   \n",
       "3 2011-01-01 2011-01-08  Standard Class    APAC        Furniture  Furnishings   \n",
       "4 2011-01-01 2011-01-08  Standard Class    APAC  Office Supplies        Paper   \n",
       "\n",
       "  order_priority   sales  quantity  profit  shipping_cost  \n",
       "0           High   66.12         4   29.64           8.17  \n",
       "1           High   44.87         3  -26.06           4.82  \n",
       "2         Medium  408.30         2  106.14          35.46  \n",
       "3         Medium  113.67         5   37.77           4.70  \n",
       "4         Medium   55.24         2   15.34           1.80  "
      ]
     },
     "execution_count": 1,
     "metadata": {},
     "output_type": "execute_result"
    }
   ],
   "source": [
    "import numpy as np\n",
    "import pandas as pd\n",
    "import matplotlib.pyplot as plt\n",
    "\n",
    "# Load the retail dataset\n",
    "retail_df = pd.read_csv(\"C:/Users/Surface/Downloads/BrainStation_Retail_Daily.csv\")\n",
    "\n",
    "# Convert datetimes\n",
    "retail_df['order_date'] = pd.to_datetime(retail_df['order_date'])\n",
    "retail_df['ship_date'] = pd.to_datetime(retail_df['ship_date'])\n",
    "\n",
    "# Show\n",
    "retail_df.head()"
   ]
  },
  {
   "cell_type": "markdown",
   "metadata": {
    "colab_type": "text",
    "id": "KZL-rqhw5JJe"
   },
   "source": [
    "If we wish to predict sales going forward, a model based on this data might be something as simple as a regression of `Sales ~ Quantity|Subcategory` _i.e._ Sales as a response of total sold per subcategory.\n",
    "\n",
    "However, we might immediately realize that we know which markets we sold these products of a given subcategory at, so we can determine location.\n",
    "\n",
    "Once we have location and date, we could include something like aggregate weather from an outside source. While it might not influence all items, you can imagine some product lines would be heavily influenced by weather; for example, if BrainStation retail sells patio furniture, we would expect this to be highly correlated with temperature and exhibit seasonal patterns. We can put together a script to scrape the most relevant weather data from an online provider, or pay for a database which contains this.\n",
    "\n",
    "We know the price of shipping cost by category, will a decrease in one category lead to a greater increase than another? What about a decrease in the price of one type of office supply vs. another?\n",
    "\n",
    "As we continue on, we can rapidly increase our feature set in our models."
   ]
  },
  {
   "cell_type": "markdown",
   "metadata": {
    "colab_type": "text",
    "id": "ULmcgVXf5JJf"
   },
   "source": [
    "---\n",
    "\n",
    "#### Exercise 1\n",
    "\n",
    "Imagine you have been presented the data set above from BrainStation retail. Using only a pen and paper, think about what additional features might you add.\n",
    "\n",
    "Think of at least 5.\n",
    "\n",
    "---"
   ]
  },
  {
   "cell_type": "markdown",
   "metadata": {
    "colab_type": "text",
    "id": "-400tqdR5JJi"
   },
   "source": [
    "### Feature Selection\n",
    "\n",
    "As we begin to add features to our data, we begin making our models more complex. We saw in the statistics unit that we can add random features to our data and increase our predictive power. We need to choose among the features we have been given and have created. Additionally, we have to make sure that only the best ones are chosen.\n",
    "\n",
    "We want to remove values which do not add anything to our model. One of the easiest ways to do this is to remove items which have a low variance. If we have variance of 0 inside a feature, then this feature provides no predictive information. Similarly if our variance is very low, we might only have one or two items with any difference, and so removing the column will prevent overfitting. \n",
    "\n",
    "In scikit-learn, we have a `feature_selection` submodule which contains a variance thresholder:"
   ]
  },
  {
   "cell_type": "code",
   "execution_count": 3,
   "metadata": {},
   "outputs": [
    {
     "data": {
      "text/html": [
       "<div>\n",
       "<style scoped>\n",
       "    .dataframe tbody tr th:only-of-type {\n",
       "        vertical-align: middle;\n",
       "    }\n",
       "\n",
       "    .dataframe tbody tr th {\n",
       "        vertical-align: top;\n",
       "    }\n",
       "\n",
       "    .dataframe thead th {\n",
       "        text-align: right;\n",
       "    }\n",
       "</style>\n",
       "<table border=\"1\" class=\"dataframe\">\n",
       "  <thead>\n",
       "    <tr style=\"text-align: right;\">\n",
       "      <th></th>\n",
       "      <th>sales</th>\n",
       "      <th>profit</th>\n",
       "      <th>shipping_cost</th>\n",
       "    </tr>\n",
       "  </thead>\n",
       "  <tbody>\n",
       "    <tr>\n",
       "      <th>0</th>\n",
       "      <td>66.12</td>\n",
       "      <td>29.64</td>\n",
       "      <td>8.17</td>\n",
       "    </tr>\n",
       "    <tr>\n",
       "      <th>1</th>\n",
       "      <td>44.87</td>\n",
       "      <td>-26.06</td>\n",
       "      <td>4.82</td>\n",
       "    </tr>\n",
       "    <tr>\n",
       "      <th>2</th>\n",
       "      <td>408.30</td>\n",
       "      <td>106.14</td>\n",
       "      <td>35.46</td>\n",
       "    </tr>\n",
       "    <tr>\n",
       "      <th>3</th>\n",
       "      <td>113.67</td>\n",
       "      <td>37.77</td>\n",
       "      <td>4.70</td>\n",
       "    </tr>\n",
       "    <tr>\n",
       "      <th>4</th>\n",
       "      <td>55.24</td>\n",
       "      <td>15.34</td>\n",
       "      <td>1.80</td>\n",
       "    </tr>\n",
       "  </tbody>\n",
       "</table>\n",
       "</div>"
      ],
      "text/plain": [
       "    sales  profit  shipping_cost\n",
       "0   66.12   29.64           8.17\n",
       "1   44.87  -26.06           4.82\n",
       "2  408.30  106.14          35.46\n",
       "3  113.67   37.77           4.70\n",
       "4   55.24   15.34           1.80"
      ]
     },
     "execution_count": 3,
     "metadata": {},
     "output_type": "execute_result"
    }
   ],
   "source": [
    "# Examine only the numeric columns for \n",
    "df2 = retail_df[['sales', 'profit', 'shipping_cost']]\n",
    "df2.head()"
   ]
  },
  {
   "cell_type": "markdown",
   "metadata": {},
   "source": [
    "Remember the variance is significantly impacted by the scale of the data. For a given column, the larger the numbers, generally the larger the variance would be, even if they vary around the mean relatively less than some other column with lower values. \n",
    "\n",
    "Lets have a look at the variances of our columns before and after scaling. "
   ]
  },
  {
   "cell_type": "code",
   "execution_count": 4,
   "metadata": {},
   "outputs": [
    {
     "data": {
      "text/plain": [
       "sales            278613.608116\n",
       "profit            34375.111253\n",
       "shipping_cost      3847.955840\n",
       "dtype: float64"
      ]
     },
     "execution_count": 4,
     "metadata": {},
     "output_type": "execute_result"
    }
   ],
   "source": [
    "df2.var()"
   ]
  },
  {
   "cell_type": "markdown",
   "metadata": {},
   "source": [
    "So we can see that sales has by far the largest variance. Lets now scale the data. We will be using the MinMax scaler here because the MinMax scaler preserves the relative distance between the points. "
   ]
  },
  {
   "cell_type": "code",
   "execution_count": 5,
   "metadata": {},
   "outputs": [],
   "source": [
    "# scaling the data\n",
    "from sklearn.preprocessing import MinMaxScaler\n",
    "\n",
    "my_mm = MinMaxScaler()\n",
    "scaled_data = my_mm.fit_transform(df2)\n",
    "\n",
    "df2_scaled = pd.DataFrame(data=scaled_data, columns=df2.columns)"
   ]
  },
  {
   "cell_type": "code",
   "execution_count": 6,
   "metadata": {},
   "outputs": [
    {
     "data": {
      "text/html": [
       "<div>\n",
       "<style scoped>\n",
       "    .dataframe tbody tr th:only-of-type {\n",
       "        vertical-align: middle;\n",
       "    }\n",
       "\n",
       "    .dataframe tbody tr th {\n",
       "        vertical-align: top;\n",
       "    }\n",
       "\n",
       "    .dataframe thead th {\n",
       "        text-align: right;\n",
       "    }\n",
       "</style>\n",
       "<table border=\"1\" class=\"dataframe\">\n",
       "  <thead>\n",
       "    <tr style=\"text-align: right;\">\n",
       "      <th></th>\n",
       "      <th>sales</th>\n",
       "      <th>profit</th>\n",
       "      <th>shipping_cost</th>\n",
       "    </tr>\n",
       "  </thead>\n",
       "  <tbody>\n",
       "    <tr>\n",
       "      <th>0</th>\n",
       "      <td>0.002795</td>\n",
       "      <td>0.441976</td>\n",
       "      <td>0.006897</td>\n",
       "    </tr>\n",
       "    <tr>\n",
       "      <th>1</th>\n",
       "      <td>0.001889</td>\n",
       "      <td>0.438263</td>\n",
       "      <td>0.004069</td>\n",
       "    </tr>\n",
       "    <tr>\n",
       "      <th>2</th>\n",
       "      <td>0.017381</td>\n",
       "      <td>0.447076</td>\n",
       "      <td>0.029936</td>\n",
       "    </tr>\n",
       "    <tr>\n",
       "      <th>3</th>\n",
       "      <td>0.004822</td>\n",
       "      <td>0.442518</td>\n",
       "      <td>0.003968</td>\n",
       "    </tr>\n",
       "    <tr>\n",
       "      <th>4</th>\n",
       "      <td>0.002331</td>\n",
       "      <td>0.441023</td>\n",
       "      <td>0.001520</td>\n",
       "    </tr>\n",
       "  </tbody>\n",
       "</table>\n",
       "</div>"
      ],
      "text/plain": [
       "      sales    profit  shipping_cost\n",
       "0  0.002795  0.441976       0.006897\n",
       "1  0.001889  0.438263       0.004069\n",
       "2  0.017381  0.447076       0.029936\n",
       "3  0.004822  0.442518       0.003968\n",
       "4  0.002331  0.441023       0.001520"
      ]
     },
     "execution_count": 6,
     "metadata": {},
     "output_type": "execute_result"
    }
   ],
   "source": [
    "df2_scaled.head()"
   ]
  },
  {
   "cell_type": "code",
   "execution_count": 7,
   "metadata": {},
   "outputs": [
    {
     "data": {
      "text/plain": [
       "sales            0.000506\n",
       "profit           0.000153\n",
       "shipping_cost    0.002742\n",
       "dtype: float64"
      ]
     },
     "execution_count": 7,
     "metadata": {},
     "output_type": "execute_result"
    }
   ],
   "source": [
    "df2_scaled.var()"
   ]
  },
  {
   "cell_type": "markdown",
   "metadata": {},
   "source": [
    "We can see now that `shipping_cost` actually has the most variance! The intuition here is that the amount the shipping cost values varied around their mean is actually higher in relative terms than the sales values do. If we had not scaled the columns we likely would have ended up dropping the `shipping_cost` column. \n",
    "\n",
    "Now let's actually use the `VarianceThreshold` transformer from Sklearn."
   ]
  },
  {
   "cell_type": "code",
   "execution_count": 8,
   "metadata": {},
   "outputs": [
    {
     "data": {
      "text/plain": [
       "VarianceThreshold(threshold=0.0004)"
      ]
     },
     "execution_count": 8,
     "metadata": {},
     "output_type": "execute_result"
    }
   ],
   "source": [
    "from sklearn.feature_selection import VarianceThreshold\n",
    "\n",
    "# Instantiate the VarianceThresholder, we need to set a threshold variance\n",
    "my_vt = VarianceThreshold(threshold=0.0004)\n",
    "\n",
    "# Fit to the data and calculate the variances per column\n",
    "my_vt.fit(df2_scaled)"
   ]
  },
  {
   "cell_type": "code",
   "execution_count": 9,
   "metadata": {},
   "outputs": [
    {
     "data": {
      "image/png": "[encoded data removed]",
      "text/plain": [
       "<Figure size 432x288 with 1 Axes>"
      ]
     },
     "metadata": {
      "needs_background": "light"
     },
     "output_type": "display_data"
    }
   ],
   "source": [
    "# Extract the variances per column\n",
    "column_variances = my_vt.variances_\n",
    "\n",
    "# Plot with the threshold\n",
    "plt.figure()\n",
    "plt.barh(np.flip(df2_scaled.columns), np.flip(column_variances))\n",
    "plt.xlabel('Variance ($)')\n",
    "plt.ylabel('Feature')\n",
    "plt.axvline(0.0004, color='black', linestyle='--')\n",
    "plt.show()"
   ]
  },
  {
   "cell_type": "code",
   "execution_count": 10,
   "metadata": {},
   "outputs": [
    {
     "data": {
      "text/plain": [
       "array([ True, False,  True])"
      ]
     },
     "execution_count": 10,
     "metadata": {},
     "output_type": "execute_result"
    }
   ],
   "source": [
    "# Get the columns which are retained\n",
    "my_vt.get_support()"
   ]
  },
  {
   "cell_type": "code",
   "execution_count": 11,
   "metadata": {
    "colab": {},
    "colab_type": "code",
    "id": "s-GP0BTI5JJj",
    "outputId": "5d1ed54c-ca3f-46cd-f9a1-51e5b2f02135"
   },
   "outputs": [
    {
     "data": {
      "text/html": [
       "<div>\n",
       "<style scoped>\n",
       "    .dataframe tbody tr th:only-of-type {\n",
       "        vertical-align: middle;\n",
       "    }\n",
       "\n",
       "    .dataframe tbody tr th {\n",
       "        vertical-align: top;\n",
       "    }\n",
       "\n",
       "    .dataframe thead th {\n",
       "        text-align: right;\n",
       "    }\n",
       "</style>\n",
       "<table border=\"1\" class=\"dataframe\">\n",
       "  <thead>\n",
       "    <tr style=\"text-align: right;\">\n",
       "      <th></th>\n",
       "      <th>sales</th>\n",
       "      <th>shipping_cost</th>\n",
       "    </tr>\n",
       "  </thead>\n",
       "  <tbody>\n",
       "    <tr>\n",
       "      <th>0</th>\n",
       "      <td>0.002795</td>\n",
       "      <td>0.006897</td>\n",
       "    </tr>\n",
       "    <tr>\n",
       "      <th>1</th>\n",
       "      <td>0.001889</td>\n",
       "      <td>0.004069</td>\n",
       "    </tr>\n",
       "    <tr>\n",
       "      <th>2</th>\n",
       "      <td>0.017381</td>\n",
       "      <td>0.029936</td>\n",
       "    </tr>\n",
       "    <tr>\n",
       "      <th>3</th>\n",
       "      <td>0.004822</td>\n",
       "      <td>0.003968</td>\n",
       "    </tr>\n",
       "    <tr>\n",
       "      <th>4</th>\n",
       "      <td>0.002331</td>\n",
       "      <td>0.001520</td>\n",
       "    </tr>\n",
       "  </tbody>\n",
       "</table>\n",
       "</div>"
      ],
      "text/plain": [
       "      sales  shipping_cost\n",
       "0  0.002795       0.006897\n",
       "1  0.001889       0.004069\n",
       "2  0.017381       0.029936\n",
       "3  0.004822       0.003968\n",
       "4  0.002331       0.001520"
      ]
     },
     "execution_count": 11,
     "metadata": {},
     "output_type": "execute_result"
    }
   ],
   "source": [
    "# Apply the variance threshold to drop columns below the given variance\n",
    "pd.DataFrame(my_vt.transform(df2_scaled), columns = df2.columns[my_vt.get_support()]).head()"
   ]
  },
  {
   "cell_type": "code",
   "execution_count": 12,
   "metadata": {},
   "outputs": [
    {
     "data": {
      "text/html": [
       "<div>\n",
       "<style scoped>\n",
       "    .dataframe tbody tr th:only-of-type {\n",
       "        vertical-align: middle;\n",
       "    }\n",
       "\n",
       "    .dataframe tbody tr th {\n",
       "        vertical-align: top;\n",
       "    }\n",
       "\n",
       "    .dataframe thead th {\n",
       "        text-align: right;\n",
       "    }\n",
       "</style>\n",
       "<table border=\"1\" class=\"dataframe\">\n",
       "  <thead>\n",
       "    <tr style=\"text-align: right;\">\n",
       "      <th></th>\n",
       "      <th>sales</th>\n",
       "      <th>shipping_cost</th>\n",
       "    </tr>\n",
       "  </thead>\n",
       "  <tbody>\n",
       "    <tr>\n",
       "      <th>0</th>\n",
       "      <td>66.12</td>\n",
       "      <td>8.17</td>\n",
       "    </tr>\n",
       "    <tr>\n",
       "      <th>1</th>\n",
       "      <td>44.87</td>\n",
       "      <td>4.82</td>\n",
       "    </tr>\n",
       "    <tr>\n",
       "      <th>2</th>\n",
       "      <td>408.30</td>\n",
       "      <td>35.46</td>\n",
       "    </tr>\n",
       "    <tr>\n",
       "      <th>3</th>\n",
       "      <td>113.67</td>\n",
       "      <td>4.70</td>\n",
       "    </tr>\n",
       "    <tr>\n",
       "      <th>4</th>\n",
       "      <td>55.24</td>\n",
       "      <td>1.80</td>\n",
       "    </tr>\n",
       "  </tbody>\n",
       "</table>\n",
       "</div>"
      ],
      "text/plain": [
       "    sales  shipping_cost\n",
       "0   66.12           8.17\n",
       "1   44.87           4.82\n",
       "2  408.30          35.46\n",
       "3  113.67           4.70\n",
       "4   55.24           1.80"
      ]
     },
     "execution_count": 12,
     "metadata": {},
     "output_type": "execute_result"
    }
   ],
   "source": [
    "# We can still apply this to the original dataframe if we wanted to continue to use the original values\n",
    "pd.DataFrame(my_vt.transform(df2), columns = df2.columns[my_vt.get_support()]).head()"
   ]
  },
  {
   "cell_type": "markdown",
   "metadata": {
    "colab_type": "text",
    "id": "5h8IaeS25JJo"
   },
   "source": [
    "Because the variance of the `profit` column is below the threshold, the `.transform()` method drops it from the data. The transformed data is nothing more than the original data with the columns with variance below the threshold value removed.\n",
    "\n",
    "In practice, most data scientists hate to throw away data, so the variance would have to be extremely low, or 0, before a transform like this would be undertaken.\n",
    "\n",
    "-------"
   ]
  },
  {
   "cell_type": "markdown",
   "metadata": {
    "colab_type": "text",
    "id": "zuPj2SvA5JJr"
   },
   "source": [
    "### Univariate Feature Selection\n",
    "\n",
    "We need to be careful when choosing variables for our data. We run the risk of effectively overfitting our data. We will talk about train/test split in more detail later, but be aware that this kind of processing will need to be carried out on train/test fitted data. In general, statisticians are not very fond of feature selection, they argue it is a form of p-hacking, and that we should only include and carry out the tests we planned in advance.\n",
    "\n",
    "While there is truth in that, often times in machine learning applications we care about models which maximize our predictive ability. \n",
    "\n",
    "If we are okay with this, we can carry out univariate feature selection. In this case, we carry out a test on a single independent variable/feature (the uni in univariate) against our dependent variable/target. We can then choose among the features based on a threshold p-value or other test, or among a ranking. \n",
    "\n",
    "Here we will do a classification task, you can do a regression task by modifying the test used in order to be sensible for your data. The docs in the following link explain the methods: http://scikit-learn.org/stable/modules/generated/sklearn.feature_selection.SelectKBest.html#sklearn.feature_selection.SelectKBest "
   ]
  },
  {
   "cell_type": "markdown",
   "metadata": {},
   "source": [
    "Say we are interested in identifying only when BrainStation retail is profitable. We can convert this regression problem of the dollars in profit into a classification by thresholding when the percentage profit (_i.e._ margin) is greater than some cut-off. In this case, we are being told by the business, we want to identify those sales above the target margin of 15%:"
   ]
  },
  {
   "cell_type": "code",
   "execution_count": 13,
   "metadata": {},
   "outputs": [
    {
     "data": {
      "image/png": "[encoded data removed]",
      "text/plain": [
       "<Figure size 432x288 with 1 Axes>"
      ]
     },
     "metadata": {
      "needs_background": "light"
     },
     "output_type": "display_data"
    }
   ],
   "source": [
    "plt.figure()\n",
    "plt.hist(retail_df['profit']/retail_df['sales']*100.0, bins=50)\n",
    "plt.xlabel('Margin (%)')\n",
    "plt.ylabel('Count')\n",
    "plt.axvline(15, color='black', linestyle='--')\n",
    "plt.show()"
   ]
  },
  {
   "cell_type": "markdown",
   "metadata": {},
   "source": [
    "Now we will construct (engineer) a new feature, in this case a binary target feature, by applying this threshold:"
   ]
  },
  {
   "cell_type": "code",
   "execution_count": 2,
   "metadata": {},
   "outputs": [],
   "source": [
    "retail_df['margin_gt_15'] = (retail_df['profit']/retail_df['sales'] > 0.15).astype(int)"
   ]
  },
  {
   "cell_type": "code",
   "execution_count": 5,
   "metadata": {},
   "outputs": [
    {
     "data": {
      "text/html": [
       "<div>\n",
       "<style scoped>\n",
       "    .dataframe tbody tr th:only-of-type {\n",
       "        vertical-align: middle;\n",
       "    }\n",
       "\n",
       "    .dataframe tbody tr th {\n",
       "        vertical-align: top;\n",
       "    }\n",
       "\n",
       "    .dataframe thead th {\n",
       "        text-align: right;\n",
       "    }\n",
       "</style>\n",
       "<table border=\"1\" class=\"dataframe\">\n",
       "  <thead>\n",
       "    <tr style=\"text-align: right;\">\n",
       "      <th></th>\n",
       "      <th>order_date</th>\n",
       "      <th>ship_date</th>\n",
       "      <th>ship_mode</th>\n",
       "      <th>Market</th>\n",
       "      <th>Category</th>\n",
       "      <th>subcategory</th>\n",
       "      <th>order_priority</th>\n",
       "      <th>sales</th>\n",
       "      <th>quantity</th>\n",
       "      <th>profit</th>\n",
       "      <th>shipping_cost</th>\n",
       "      <th>margin_gt_15</th>\n",
       "    </tr>\n",
       "  </thead>\n",
       "  <tbody>\n",
       "    <tr>\n",
       "      <th>0</th>\n",
       "      <td>2011-01-01</td>\n",
       "      <td>2011-01-05</td>\n",
       "      <td>Second Class</td>\n",
       "      <td>EMEA</td>\n",
       "      <td>Office Supplies</td>\n",
       "      <td>Storage</td>\n",
       "      <td>High</td>\n",
       "      <td>66.12</td>\n",
       "      <td>4</td>\n",
       "      <td>29.64</td>\n",
       "      <td>8.17</td>\n",
       "      <td>1</td>\n",
       "    </tr>\n",
       "    <tr>\n",
       "      <th>1</th>\n",
       "      <td>2011-01-01</td>\n",
       "      <td>2011-01-05</td>\n",
       "      <td>Second Class</td>\n",
       "      <td>EU</td>\n",
       "      <td>Office Supplies</td>\n",
       "      <td>Paper</td>\n",
       "      <td>High</td>\n",
       "      <td>44.87</td>\n",
       "      <td>3</td>\n",
       "      <td>-26.06</td>\n",
       "      <td>4.82</td>\n",
       "      <td>0</td>\n",
       "    </tr>\n",
       "    <tr>\n",
       "      <th>2</th>\n",
       "      <td>2011-01-01</td>\n",
       "      <td>2011-01-06</td>\n",
       "      <td>Standard Class</td>\n",
       "      <td>Africa</td>\n",
       "      <td>Office Supplies</td>\n",
       "      <td>Storage</td>\n",
       "      <td>Medium</td>\n",
       "      <td>408.30</td>\n",
       "      <td>2</td>\n",
       "      <td>106.14</td>\n",
       "      <td>35.46</td>\n",
       "      <td>1</td>\n",
       "    </tr>\n",
       "    <tr>\n",
       "      <th>3</th>\n",
       "      <td>2011-01-01</td>\n",
       "      <td>2011-01-08</td>\n",
       "      <td>Standard Class</td>\n",
       "      <td>APAC</td>\n",
       "      <td>Furniture</td>\n",
       "      <td>Furnishings</td>\n",
       "      <td>Medium</td>\n",
       "      <td>113.67</td>\n",
       "      <td>5</td>\n",
       "      <td>37.77</td>\n",
       "      <td>4.70</td>\n",
       "      <td>1</td>\n",
       "    </tr>\n",
       "    <tr>\n",
       "      <th>4</th>\n",
       "      <td>2011-01-01</td>\n",
       "      <td>2011-01-08</td>\n",
       "      <td>Standard Class</td>\n",
       "      <td>APAC</td>\n",
       "      <td>Office Supplies</td>\n",
       "      <td>Paper</td>\n",
       "      <td>Medium</td>\n",
       "      <td>55.24</td>\n",
       "      <td>2</td>\n",
       "      <td>15.34</td>\n",
       "      <td>1.80</td>\n",
       "      <td>1</td>\n",
       "    </tr>\n",
       "  </tbody>\n",
       "</table>\n",
       "</div>"
      ],
      "text/plain": [
       "  order_date  ship_date       ship_mode  Market         Category  subcategory  \\\n",
       "0 2011-01-01 2011-01-05    Second Class    EMEA  Office Supplies      Storage   \n",
       "1 2011-01-01 2011-01-05    Second Class      EU  Office Supplies        Paper   \n",
       "2 2011-01-01 2011-01-06  Standard Class  Africa  Office Supplies      Storage   \n",
       "3 2011-01-01 2011-01-08  Standard Class    APAC        Furniture  Furnishings   \n",
       "4 2011-01-01 2011-01-08  Standard Class    APAC  Office Supplies        Paper   \n",
       "\n",
       "  order_priority   sales  quantity  profit  shipping_cost  margin_gt_15  \n",
       "0           High   66.12         4   29.64           8.17             1  \n",
       "1           High   44.87         3  -26.06           4.82             0  \n",
       "2         Medium  408.30         2  106.14          35.46             1  \n",
       "3         Medium  113.67         5   37.77           4.70             1  \n",
       "4         Medium   55.24         2   15.34           1.80             1  "
      ]
     },
     "execution_count": 5,
     "metadata": {},
     "output_type": "execute_result"
    }
   ],
   "source": [
    "retail_df.head()"
   ]
  },
  {
   "cell_type": "markdown",
   "metadata": {},
   "source": [
    "Then we could look at various contingency tables for the [chi-squared test](https://scikit-learn.org/stable/modules/generated/sklearn.feature_selection.chi2.html#sklearn.feature_selection.chi2), and figure out which categorical features are most predictive. For example, by product category:"
   ]
  },
  {
   "cell_type": "code",
   "execution_count": 16,
   "metadata": {},
   "outputs": [
    {
     "data": {
      "text/html": [
       "<div>\n",
       "<style scoped>\n",
       "    .dataframe tbody tr th:only-of-type {\n",
       "        vertical-align: middle;\n",
       "    }\n",
       "\n",
       "    .dataframe tbody tr th {\n",
       "        vertical-align: top;\n",
       "    }\n",
       "\n",
       "    .dataframe thead th {\n",
       "        text-align: right;\n",
       "    }\n",
       "</style>\n",
       "<table border=\"1\" class=\"dataframe\">\n",
       "  <thead>\n",
       "    <tr style=\"text-align: right;\">\n",
       "      <th>Category</th>\n",
       "      <th>Furniture</th>\n",
       "      <th>Office Supplies</th>\n",
       "      <th>Technology</th>\n",
       "    </tr>\n",
       "    <tr>\n",
       "      <th>margin_gt_15</th>\n",
       "      <th></th>\n",
       "      <th></th>\n",
       "      <th></th>\n",
       "    </tr>\n",
       "  </thead>\n",
       "  <tbody>\n",
       "    <tr>\n",
       "      <th>0</th>\n",
       "      <td>5040</td>\n",
       "      <td>12267</td>\n",
       "      <td>4795</td>\n",
       "    </tr>\n",
       "    <tr>\n",
       "      <th>1</th>\n",
       "      <td>4010</td>\n",
       "      <td>15538</td>\n",
       "      <td>4594</td>\n",
       "    </tr>\n",
       "  </tbody>\n",
       "</table>\n",
       "</div>"
      ],
      "text/plain": [
       "Category      Furniture  Office Supplies  Technology\n",
       "margin_gt_15                                        \n",
       "0                  5040            12267        4795\n",
       "1                  4010            15538        4594"
      ]
     },
     "execution_count": 16,
     "metadata": {},
     "output_type": "execute_result"
    }
   ],
   "source": [
    "pd.crosstab(index=retail_df['margin_gt_15'], columns=retail_df['Category'])"
   ]
  },
  {
   "cell_type": "markdown",
   "metadata": {},
   "source": [
    "We can also do this using different types of scoring functions (as detailed on the [SelectKBest](https://scikit-learn.org/stable/modules/generated/sklearn.feature_selection.SelectKBest.html) documentation) depending on how we want to quantify how predictive a feature is, and whether or not the problem is classification or regression. For example, for our BrainStation retail dataset, we can compare whether quantity or shipping cost is more predictive of margin, based on their [f_classif](https://scikit-learn.org/stable/modules/generated/sklearn.feature_selection.f_classif.html#sklearn.feature_selection.f_classif) score:"
   ]
  },
  {
   "cell_type": "code",
   "execution_count": 17,
   "metadata": {},
   "outputs": [],
   "source": [
    "from sklearn.feature_selection import SelectKBest\n",
    "from sklearn.feature_selection import f_classif\n",
    "\n",
    "# Pull out features and target\n",
    "X = retail_df[['quantity', 'shipping_cost']]\n",
    "y = retail_df['margin_gt_15']\n",
    "\n",
    "# Instantiate KBest feature selector and fit\n",
    "my_KBest = SelectKBest(f_classif, k=1).fit(X, y)"
   ]
  },
  {
   "cell_type": "code",
   "execution_count": 18,
   "metadata": {},
   "outputs": [
    {
     "data": {
      "text/plain": [
       "array([ True, False])"
      ]
     },
     "execution_count": 18,
     "metadata": {},
     "output_type": "execute_result"
    }
   ],
   "source": [
    "my_KBest.get_support()"
   ]
  },
  {
   "cell_type": "code",
   "execution_count": 19,
   "metadata": {},
   "outputs": [
    {
     "data": {
      "text/plain": [
       "array([9.7419504 , 4.13761886])"
      ]
     },
     "execution_count": 19,
     "metadata": {},
     "output_type": "execute_result"
    }
   ],
   "source": [
    "my_KBest.scores_"
   ]
  },
  {
   "cell_type": "markdown",
   "metadata": {},
   "source": [
    "So here in this example, we can see that quantity is actually a better predictor than shipping cost."
   ]
  },
  {
   "cell_type": "markdown",
   "metadata": {
    "colab_type": "text",
    "id": "_PUEZPhH5JJ_"
   },
   "source": [
    "---\n",
    "\n",
    "#### Exercise 2\n",
    "\n",
    "1. Run the KBest feature selector on the Diabetes Progression data set. Choose K = 5 initially, and make sure to choose a scoring function appropriate for a regression problem.\n",
    "2. Which features were selected?\n",
    "3. How does the fit of a linear regression vary on K from 1 to 5?\n",
    "4. What would happen to a K best selector if some of the K features are correlated?"
   ]
  },
  {
   "cell_type": "code",
   "execution_count": 6,
   "metadata": {
    "colab": {},
    "colab_type": "code",
    "id": "A_GlGkk85JJz"
   },
   "outputs": [
    {
     "data": {
      "text/html": [
       "<div>\n",
       "<style scoped>\n",
       "    .dataframe tbody tr th:only-of-type {\n",
       "        vertical-align: middle;\n",
       "    }\n",
       "\n",
       "    .dataframe tbody tr th {\n",
       "        vertical-align: top;\n",
       "    }\n",
       "\n",
       "    .dataframe thead th {\n",
       "        text-align: right;\n",
       "    }\n",
       "</style>\n",
       "<table border=\"1\" class=\"dataframe\">\n",
       "  <thead>\n",
       "    <tr style=\"text-align: right;\">\n",
       "      <th></th>\n",
       "      <th>age</th>\n",
       "      <th>sex</th>\n",
       "      <th>bmi</th>\n",
       "      <th>bp</th>\n",
       "      <th>s1</th>\n",
       "      <th>s2</th>\n",
       "      <th>s3</th>\n",
       "      <th>s4</th>\n",
       "      <th>s5</th>\n",
       "      <th>s6</th>\n",
       "      <th>progression</th>\n",
       "    </tr>\n",
       "  </thead>\n",
       "  <tbody>\n",
       "    <tr>\n",
       "      <th>0</th>\n",
       "      <td>0.038076</td>\n",
       "      <td>0.050680</td>\n",
       "      <td>0.061696</td>\n",
       "      <td>0.021872</td>\n",
       "      <td>-0.044223</td>\n",
       "      <td>-0.034821</td>\n",
       "      <td>-0.043401</td>\n",
       "      <td>-0.002592</td>\n",
       "      <td>0.019908</td>\n",
       "      <td>-0.017646</td>\n",
       "      <td>151.0</td>\n",
       "    </tr>\n",
       "    <tr>\n",
       "      <th>1</th>\n",
       "      <td>-0.001882</td>\n",
       "      <td>-0.044642</td>\n",
       "      <td>-0.051474</td>\n",
       "      <td>-0.026328</td>\n",
       "      <td>-0.008449</td>\n",
       "      <td>-0.019163</td>\n",
       "      <td>0.074412</td>\n",
       "      <td>-0.039493</td>\n",
       "      <td>-0.068330</td>\n",
       "      <td>-0.092204</td>\n",
       "      <td>75.0</td>\n",
       "    </tr>\n",
       "    <tr>\n",
       "      <th>2</th>\n",
       "      <td>0.085299</td>\n",
       "      <td>0.050680</td>\n",
       "      <td>0.044451</td>\n",
       "      <td>-0.005671</td>\n",
       "      <td>-0.045599</td>\n",
       "      <td>-0.034194</td>\n",
       "      <td>-0.032356</td>\n",
       "      <td>-0.002592</td>\n",
       "      <td>0.002864</td>\n",
       "      <td>-0.025930</td>\n",
       "      <td>141.0</td>\n",
       "    </tr>\n",
       "    <tr>\n",
       "      <th>3</th>\n",
       "      <td>-0.089063</td>\n",
       "      <td>-0.044642</td>\n",
       "      <td>-0.011595</td>\n",
       "      <td>-0.036656</td>\n",
       "      <td>0.012191</td>\n",
       "      <td>0.024991</td>\n",
       "      <td>-0.036038</td>\n",
       "      <td>0.034309</td>\n",
       "      <td>0.022692</td>\n",
       "      <td>-0.009362</td>\n",
       "      <td>206.0</td>\n",
       "    </tr>\n",
       "    <tr>\n",
       "      <th>4</th>\n",
       "      <td>0.005383</td>\n",
       "      <td>-0.044642</td>\n",
       "      <td>-0.036385</td>\n",
       "      <td>0.021872</td>\n",
       "      <td>0.003935</td>\n",
       "      <td>0.015596</td>\n",
       "      <td>0.008142</td>\n",
       "      <td>-0.002592</td>\n",
       "      <td>-0.031991</td>\n",
       "      <td>-0.046641</td>\n",
       "      <td>135.0</td>\n",
       "    </tr>\n",
       "  </tbody>\n",
       "</table>\n",
       "</div>"
      ],
      "text/plain": [
       "        age       sex       bmi        bp        s1        s2        s3  \\\n",
       "0  0.038076  0.050680  0.061696  0.021872 -0.044223 -0.034821 -0.043401   \n",
       "1 -0.001882 -0.044642 -0.051474 -0.026328 -0.008449 -0.019163  0.074412   \n",
       "2  0.085299  0.050680  0.044451 -0.005671 -0.045599 -0.034194 -0.032356   \n",
       "3 -0.089063 -0.044642 -0.011595 -0.036656  0.012191  0.024991 -0.036038   \n",
       "4  0.005383 -0.044642 -0.036385  0.021872  0.003935  0.015596  0.008142   \n",
       "\n",
       "         s4        s5        s6  progression  \n",
       "0 -0.002592  0.019908 -0.017646        151.0  \n",
       "1 -0.039493 -0.068330 -0.092204         75.0  \n",
       "2 -0.002592  0.002864 -0.025930        141.0  \n",
       "3  0.034309  0.022692 -0.009362        206.0  \n",
       "4 -0.002592 -0.031991 -0.046641        135.0  "
      ]
     },
     "execution_count": 6,
     "metadata": {},
     "output_type": "execute_result"
    }
   ],
   "source": [
    "from sklearn.datasets import load_diabetes\n",
    "\n",
    "diabetes = load_diabetes()\n",
    "X = diabetes.data\n",
    "y = diabetes.target\n",
    "\n",
    "diabetes_df = pd.DataFrame(data=X, columns=diabetes.feature_names)\n",
    "diabetes_df['progression'] = y\n",
    "diabetes_df.head()"
   ]
  },
  {
   "cell_type": "code",
   "execution_count": 9,
   "metadata": {},
   "outputs": [
    {
     "data": {
      "text/html": [
       "<div>\n",
       "<style scoped>\n",
       "    .dataframe tbody tr th:only-of-type {\n",
       "        vertical-align: middle;\n",
       "    }\n",
       "\n",
       "    .dataframe tbody tr th {\n",
       "        vertical-align: top;\n",
       "    }\n",
       "\n",
       "    .dataframe thead th {\n",
       "        text-align: right;\n",
       "    }\n",
       "</style>\n",
       "<table border=\"1\" class=\"dataframe\">\n",
       "  <thead>\n",
       "    <tr style=\"text-align: right;\">\n",
       "      <th></th>\n",
       "      <th>age</th>\n",
       "      <th>sex</th>\n",
       "      <th>progression</th>\n",
       "    </tr>\n",
       "  </thead>\n",
       "  <tbody>\n",
       "    <tr>\n",
       "      <th>0</th>\n",
       "      <td>0.038076</td>\n",
       "      <td>0.050680</td>\n",
       "      <td>151.0</td>\n",
       "    </tr>\n",
       "    <tr>\n",
       "      <th>1</th>\n",
       "      <td>-0.001882</td>\n",
       "      <td>-0.044642</td>\n",
       "      <td>75.0</td>\n",
       "    </tr>\n",
       "    <tr>\n",
       "      <th>2</th>\n",
       "      <td>0.085299</td>\n",
       "      <td>0.050680</td>\n",
       "      <td>141.0</td>\n",
       "    </tr>\n",
       "    <tr>\n",
       "      <th>3</th>\n",
       "      <td>-0.089063</td>\n",
       "      <td>-0.044642</td>\n",
       "      <td>206.0</td>\n",
       "    </tr>\n",
       "    <tr>\n",
       "      <th>4</th>\n",
       "      <td>0.005383</td>\n",
       "      <td>-0.044642</td>\n",
       "      <td>135.0</td>\n",
       "    </tr>\n",
       "  </tbody>\n",
       "</table>\n",
       "</div>"
      ],
      "text/plain": [
       "        age       sex  progression\n",
       "0  0.038076  0.050680        151.0\n",
       "1 -0.001882 -0.044642         75.0\n",
       "2  0.085299  0.050680        141.0\n",
       "3 -0.089063 -0.044642        206.0\n",
       "4  0.005383 -0.044642        135.0"
      ]
     },
     "execution_count": 9,
     "metadata": {},
     "output_type": "execute_result"
    }
   ],
   "source": [
    "# Examine only the numeric columns for \n",
    "df = diabetes_df[['age', 'sex', 'progression']]\n",
    "df.head()"
   ]
  },
  {
   "cell_type": "code",
   "execution_count": 10,
   "metadata": {},
   "outputs": [
    {
     "data": {
      "text/plain": [
       "age               0.002268\n",
       "sex               0.002268\n",
       "progression    5943.331348\n",
       "dtype: float64"
      ]
     },
     "execution_count": 10,
     "metadata": {},
     "output_type": "execute_result"
    }
   ],
   "source": [
    "df.var()"
   ]
  },
  {
   "cell_type": "markdown",
   "metadata": {},
   "source": [
    "---"
   ]
  },
  {
   "cell_type": "markdown",
   "metadata": {
    "colab_type": "text",
    "id": "Z7uoyxPN5JKD"
   },
   "source": [
    "### Multivariate Feature Selection\n",
    "\n",
    "This is similar to the univariate case, but this time we run the data in combinations. This is significantly more complicated. Scikit-learn provides a recursive feature eliminator as well as ways to run trees or regressions to select a subset of parameters: http://scikit-learn.org/stable/modules/generated/sklearn.feature_selection.RFE.html.  \n",
    "\n",
    "One commonly used method, which is not implemented in scikit-learn, is [stepwise regression](https://en.wikipedia.org/wiki/Stepwise_regression). In this method, we add a variable to a regression, test for model improvement, and if it is the 'best' one, add it, and check for any variables we can now remove, until we reach a point where the model can no longer be improved."
   ]
  },
  {
   "cell_type": "markdown",
   "metadata": {
    "colab_type": "text",
    "id": "OYkaurBK5JKE"
   },
   "source": [
    "### Regularization\n",
    "\n",
    "We previously saw lasso (L1) and ridge (L2) regression. These methods shrink the coefficients of our regression towards 0 by penalizing large betas:\n",
    "\n",
    "$$ Cost = \\sum\\limits_{i=1}^{n}(y_i - \\hat{y})^2 + \\alpha\\sum\\limits_{j=1}^{p}|\\beta_j|^q$$\n",
    "\n",
    "Where the $q$=1 in lasso and $q$=2 in ridge. This is a version of multivariate feature selection, albeit a more valid one. Scikit-learn regularizes many of its models, so it is often valid to throw everything in, rather than strictly selecting like we are doing above."
   ]
  },
  {
   "cell_type": "markdown",
   "metadata": {
    "colab_type": "text",
    "id": "Owq_kGyv5JKG"
   },
   "source": [
    "---\n",
    "\n",
    "#### Exercise 3\n",
    "\n",
    "1. Run a ridge and lasso regression on the diabetes data. How do the coefficients of each compare?\n",
    "\n",
    "---"
   ]
  },
  {
   "cell_type": "code",
   "execution_count": null,
   "metadata": {},
   "outputs": [],
   "source": []
  },
  {
   "cell_type": "markdown",
   "metadata": {
    "colab_type": "text",
    "id": "kfNgyIIe5JKJ"
   },
   "source": [
    "### Categorical-to-Numerical conversion\n",
    "\n",
    "Before we look at the other classification techniques, we need to learn about ways to represent categorical data as numerical data.  Most of the scikit-learn models require numerical inputs, but we have a number of ways to convert data."
   ]
  },
  {
   "cell_type": "markdown",
   "metadata": {
    "colab_type": "text",
    "id": "kfNgyIIe5JKJ"
   },
   "source": [
    "### One-Hot Encoding"
   ]
  },
  {
   "cell_type": "markdown",
   "metadata": {},
   "source": [
    "One method of changing categorical values into numerical values (appropriate for when there is no inherent order to the categories) is called \"one-hot\" encoding. This takes a single column of categorical data with k categories and transforms it into k columns of binary 0/1 data, one column for each of the unique category values that existed in the column. Each row will have a $1$ in the column corresponding to its original categorical value, and a $0$ in all the other columns.\n",
    "\n",
    "Pandas comes with an easy, built-in method for carrying out this one-hot encoding process: `pd.get_dummies()`. It takes as input a Series (or DataFrame), and outputs a DataFrame with the categorical columns converted into sets of one-hot-encoded columns. (Any numerical columns are left unchanged.)\n",
    "\n",
    "Scikit-learn implements this slightly differently than pandas, via the `OneHotEncoder` as we shall see shortly.\n",
    "\n",
    "For example, with our BrainStation retail data, we can look at the categorical values in the Market column:"
   ]
  },
  {
   "cell_type": "code",
   "execution_count": 21,
   "metadata": {},
   "outputs": [
    {
     "data": {
      "text/plain": [
       "0      EMEA\n",
       "1        EU\n",
       "2    Africa\n",
       "3      APAC\n",
       "4      APAC\n",
       "Name: Market, dtype: object"
      ]
     },
     "execution_count": 21,
     "metadata": {},
     "output_type": "execute_result"
    }
   ],
   "source": [
    "retail_df['Market'].head()"
   ]
  },
  {
   "cell_type": "markdown",
   "metadata": {
    "colab_type": "text",
    "id": "AV3LSntE5JKM"
   },
   "source": [
    "When we call `get_dummies` on the `Market` column, we get 7 new columns — one for each of the distinct markets:"
   ]
  },
  {
   "cell_type": "code",
   "execution_count": 22,
   "metadata": {},
   "outputs": [
    {
     "data": {
      "text/html": [
       "<div>\n",
       "<style scoped>\n",
       "    .dataframe tbody tr th:only-of-type {\n",
       "        vertical-align: middle;\n",
       "    }\n",
       "\n",
       "    .dataframe tbody tr th {\n",
       "        vertical-align: top;\n",
       "    }\n",
       "\n",
       "    .dataframe thead th {\n",
       "        text-align: right;\n",
       "    }\n",
       "</style>\n",
       "<table border=\"1\" class=\"dataframe\">\n",
       "  <thead>\n",
       "    <tr style=\"text-align: right;\">\n",
       "      <th></th>\n",
       "      <th>APAC</th>\n",
       "      <th>Africa</th>\n",
       "      <th>Canada</th>\n",
       "      <th>EMEA</th>\n",
       "      <th>EU</th>\n",
       "      <th>LATAM</th>\n",
       "      <th>US</th>\n",
       "    </tr>\n",
       "  </thead>\n",
       "  <tbody>\n",
       "    <tr>\n",
       "      <th>0</th>\n",
       "      <td>0</td>\n",
       "      <td>0</td>\n",
       "      <td>0</td>\n",
       "      <td>1</td>\n",
       "      <td>0</td>\n",
       "      <td>0</td>\n",
       "      <td>0</td>\n",
       "    </tr>\n",
       "    <tr>\n",
       "      <th>1</th>\n",
       "      <td>0</td>\n",
       "      <td>0</td>\n",
       "      <td>0</td>\n",
       "      <td>0</td>\n",
       "      <td>1</td>\n",
       "      <td>0</td>\n",
       "      <td>0</td>\n",
       "    </tr>\n",
       "    <tr>\n",
       "      <th>2</th>\n",
       "      <td>0</td>\n",
       "      <td>1</td>\n",
       "      <td>0</td>\n",
       "      <td>0</td>\n",
       "      <td>0</td>\n",
       "      <td>0</td>\n",
       "      <td>0</td>\n",
       "    </tr>\n",
       "    <tr>\n",
       "      <th>3</th>\n",
       "      <td>1</td>\n",
       "      <td>0</td>\n",
       "      <td>0</td>\n",
       "      <td>0</td>\n",
       "      <td>0</td>\n",
       "      <td>0</td>\n",
       "      <td>0</td>\n",
       "    </tr>\n",
       "    <tr>\n",
       "      <th>4</th>\n",
       "      <td>1</td>\n",
       "      <td>0</td>\n",
       "      <td>0</td>\n",
       "      <td>0</td>\n",
       "      <td>0</td>\n",
       "      <td>0</td>\n",
       "      <td>0</td>\n",
       "    </tr>\n",
       "  </tbody>\n",
       "</table>\n",
       "</div>"
      ],
      "text/plain": [
       "   APAC  Africa  Canada  EMEA  EU  LATAM  US\n",
       "0     0       0       0     1   0      0   0\n",
       "1     0       0       0     0   1      0   0\n",
       "2     0       1       0     0   0      0   0\n",
       "3     1       0       0     0   0      0   0\n",
       "4     1       0       0     0   0      0   0"
      ]
     },
     "execution_count": 22,
     "metadata": {},
     "output_type": "execute_result"
    }
   ],
   "source": [
    "pd.get_dummies(retail_df['Market']).head()"
   ]
  },
  {
   "cell_type": "markdown",
   "metadata": {
    "colab_type": "text",
    "id": "hV-d1ird5JKR"
   },
   "source": [
    "Notice, we could technically drop one of the columns! The last column contains no new information. Its value is completely determined by the values of the previous 6 columns.\n",
    "\n",
    "To make this even clearer, consider if we created dummy variables for this column of employed/unemployed statuses:"
   ]
  },
  {
   "cell_type": "code",
   "execution_count": 23,
   "metadata": {
    "colab": {},
    "colab_type": "code",
    "id": "BXtPDngY5JKS",
    "outputId": "99e97a3b-2bd2-4547-ca28-882566d06e99"
   },
   "outputs": [
    {
     "data": {
      "text/html": [
       "<div>\n",
       "<style scoped>\n",
       "    .dataframe tbody tr th:only-of-type {\n",
       "        vertical-align: middle;\n",
       "    }\n",
       "\n",
       "    .dataframe tbody tr th {\n",
       "        vertical-align: top;\n",
       "    }\n",
       "\n",
       "    .dataframe thead th {\n",
       "        text-align: right;\n",
       "    }\n",
       "</style>\n",
       "<table border=\"1\" class=\"dataframe\">\n",
       "  <thead>\n",
       "    <tr style=\"text-align: right;\">\n",
       "      <th></th>\n",
       "      <th>employed</th>\n",
       "      <th>unemployed</th>\n",
       "    </tr>\n",
       "  </thead>\n",
       "  <tbody>\n",
       "    <tr>\n",
       "      <th>0</th>\n",
       "      <td>1</td>\n",
       "      <td>0</td>\n",
       "    </tr>\n",
       "    <tr>\n",
       "      <th>1</th>\n",
       "      <td>0</td>\n",
       "      <td>1</td>\n",
       "    </tr>\n",
       "    <tr>\n",
       "      <th>2</th>\n",
       "      <td>1</td>\n",
       "      <td>0</td>\n",
       "    </tr>\n",
       "    <tr>\n",
       "      <th>3</th>\n",
       "      <td>0</td>\n",
       "      <td>1</td>\n",
       "    </tr>\n",
       "    <tr>\n",
       "      <th>4</th>\n",
       "      <td>1</td>\n",
       "      <td>0</td>\n",
       "    </tr>\n",
       "    <tr>\n",
       "      <th>5</th>\n",
       "      <td>0</td>\n",
       "      <td>1</td>\n",
       "    </tr>\n",
       "  </tbody>\n",
       "</table>\n",
       "</div>"
      ],
      "text/plain": [
       "   employed  unemployed\n",
       "0         1           0\n",
       "1         0           1\n",
       "2         1           0\n",
       "3         0           1\n",
       "4         1           0\n",
       "5         0           1"
      ]
     },
     "execution_count": 23,
     "metadata": {},
     "output_type": "execute_result"
    }
   ],
   "source": [
    "x = pd.DataFrame({'employment':['employed', 'unemployed','employed', 'unemployed','employed', 'unemployed']})\n",
    "pd.get_dummies(x.employment)"
   ]
  },
  {
   "cell_type": "markdown",
   "metadata": {
    "colab_type": "text",
    "id": "d4vFvWxy5JKY"
   },
   "source": [
    "Statistically, we have no extra information in the last column. When fitting statistical models on this data, this can actually cause errors, since the columns share so much mutual information. We usually drop the useless column when using statistical models, (see below)."
   ]
  },
  {
   "cell_type": "markdown",
   "metadata": {
    "colab_type": "text",
    "id": "d4vFvWxy5JKY"
   },
   "source": [
    "But in machine learning, this usually isn't a problem, because we use techniques like regularization to adjust the column importance. It is general practice in machine learning to leave it in. Be aware of the difference!"
   ]
  },
  {
   "cell_type": "code",
   "execution_count": 24,
   "metadata": {
    "colab": {},
    "colab_type": "code",
    "id": "4uttCIAn5JKZ",
    "outputId": "da8a6712-3440-4d7a-8c8c-00acf2111d9b"
   },
   "outputs": [
    {
     "data": {
      "text/html": [
       "<div>\n",
       "<style scoped>\n",
       "    .dataframe tbody tr th:only-of-type {\n",
       "        vertical-align: middle;\n",
       "    }\n",
       "\n",
       "    .dataframe tbody tr th {\n",
       "        vertical-align: top;\n",
       "    }\n",
       "\n",
       "    .dataframe thead th {\n",
       "        text-align: right;\n",
       "    }\n",
       "</style>\n",
       "<table border=\"1\" class=\"dataframe\">\n",
       "  <thead>\n",
       "    <tr style=\"text-align: right;\">\n",
       "      <th></th>\n",
       "      <th>unemployed</th>\n",
       "    </tr>\n",
       "  </thead>\n",
       "  <tbody>\n",
       "    <tr>\n",
       "      <th>0</th>\n",
       "      <td>0</td>\n",
       "    </tr>\n",
       "    <tr>\n",
       "      <th>1</th>\n",
       "      <td>1</td>\n",
       "    </tr>\n",
       "    <tr>\n",
       "      <th>2</th>\n",
       "      <td>0</td>\n",
       "    </tr>\n",
       "    <tr>\n",
       "      <th>3</th>\n",
       "      <td>1</td>\n",
       "    </tr>\n",
       "    <tr>\n",
       "      <th>4</th>\n",
       "      <td>0</td>\n",
       "    </tr>\n",
       "    <tr>\n",
       "      <th>5</th>\n",
       "      <td>1</td>\n",
       "    </tr>\n",
       "  </tbody>\n",
       "</table>\n",
       "</div>"
      ],
      "text/plain": [
       "   unemployed\n",
       "0           0\n",
       "1           1\n",
       "2           0\n",
       "3           1\n",
       "4           0\n",
       "5           1"
      ]
     },
     "execution_count": 24,
     "metadata": {},
     "output_type": "execute_result"
    }
   ],
   "source": [
    "pd.get_dummies(x.employment, drop_first=True)"
   ]
  },
  {
   "cell_type": "markdown",
   "metadata": {
    "colab_type": "text",
    "id": "nWKiUy_t5JKc"
   },
   "source": [
    "If we wanted to model the items sold by BrainStation retail at the product level, we might end up with an extremely wide dataset - we would need a column for each individual item! This is generally true for any problem with a large number of distinct categorical values for a variable (_i.e._ with high cardinality) and will result in feature sets that are extremely 'wide'.\n",
    "\n",
    "One remedy is to subset data, but another is to use sparse matrices. Recall, we saw sparse matrices in the tour of the Python ecosystem. \n",
    "\n",
    "We will now turn to using sklearn's [OneHotEncoder](https://scikit-learn.org/stable/modules/generated/sklearn.preprocessing.OneHotEncoder.html), which creates sparse matrices by default. Let's apply this to a column with a larger number of distinct values, such as the product subcategory:"
   ]
  },
  {
   "cell_type": "code",
   "execution_count": 25,
   "metadata": {},
   "outputs": [
    {
     "data": {
      "text/plain": [
       "array(['Storage', 'Paper', 'Furnishings', 'Supplies', 'Machines',\n",
       "       'Appliances', 'Labels', 'Tables', 'Fasteners', 'Chairs',\n",
       "       'Envelopes', 'Bookcases', 'Phones', 'Art', 'Accessories',\n",
       "       'Copiers', 'Binders'], dtype=object)"
      ]
     },
     "execution_count": 25,
     "metadata": {},
     "output_type": "execute_result"
    }
   ],
   "source": [
    "retail_df['subcategory'].unique()"
   ]
  },
  {
   "cell_type": "code",
   "execution_count": 26,
   "metadata": {
    "colab": {},
    "colab_type": "code",
    "id": "1SfCdGpW5JKf",
    "outputId": "bfd32e86-0c9c-4a65-f07d-a3cdc06a634c"
   },
   "outputs": [
    {
     "data": {
      "text/plain": [
       "<46244x17 sparse matrix of type '<class 'numpy.float64'>'\n",
       "\twith 46244 stored elements in Compressed Sparse Row format>"
      ]
     },
     "execution_count": 26,
     "metadata": {},
     "output_type": "execute_result"
    }
   ],
   "source": [
    "from sklearn.preprocessing import OneHotEncoder\n",
    "\n",
    "# Instantiate the OneHotEncoder\n",
    "ohe = OneHotEncoder()\n",
    "\n",
    "# Fit the OneHotEncoder to the subcategory column and transform\n",
    "# It expects a 2D array, so we first convert the column into a DataFrame\n",
    "subcategory = pd.DataFrame(retail_df['subcategory'])\n",
    "encoded = ohe.fit_transform(subcategory)\n",
    "encoded"
   ]
  },
  {
   "cell_type": "code",
   "execution_count": 27,
   "metadata": {
    "colab": {},
    "colab_type": "code",
    "id": "4ZlYuh855JKi",
    "outputId": "7c73a895-3de3-4341-c844-daaf9c6d707e"
   },
   "outputs": [
    {
     "data": {
      "text/plain": [
       "array([[0., 0., 0., ..., 1., 0., 0.],\n",
       "       [0., 0., 0., ..., 0., 0., 0.],\n",
       "       [0., 0., 0., ..., 1., 0., 0.],\n",
       "       ...,\n",
       "       [0., 0., 0., ..., 0., 0., 0.],\n",
       "       [0., 0., 0., ..., 0., 0., 0.],\n",
       "       [1., 0., 0., ..., 0., 0., 0.]])"
      ]
     },
     "execution_count": 27,
     "metadata": {},
     "output_type": "execute_result"
    }
   ],
   "source": [
    "# Convert from sparse matrix to dense\n",
    "dense_array = encoded.toarray()\n",
    "dense_array"
   ]
  },
  {
   "cell_type": "markdown",
   "metadata": {},
   "source": [
    "To get the corresponding column names for this one-hot-encoded array, we access the `.categories_` attribute of the fitted `OneHotEncoder`:"
   ]
  },
  {
   "cell_type": "code",
   "execution_count": 28,
   "metadata": {},
   "outputs": [
    {
     "data": {
      "text/plain": [
       "[array(['Accessories', 'Appliances', 'Art', 'Binders', 'Bookcases',\n",
       "        'Chairs', 'Copiers', 'Envelopes', 'Fasteners', 'Furnishings',\n",
       "        'Labels', 'Machines', 'Paper', 'Phones', 'Storage', 'Supplies',\n",
       "        'Tables'], dtype=object)]"
      ]
     },
     "execution_count": 28,
     "metadata": {},
     "output_type": "execute_result"
    }
   ],
   "source": [
    "ohe.categories_"
   ]
  },
  {
   "cell_type": "markdown",
   "metadata": {},
   "source": [
    "As you can see, the columns are in ascending alphabetical order. We can finally combine these in a dataframe and join back to the original column to check the result:"
   ]
  },
  {
   "cell_type": "code",
   "execution_count": 29,
   "metadata": {},
   "outputs": [
    {
     "data": {
      "text/html": [
       "<div>\n",
       "<style scoped>\n",
       "    .dataframe tbody tr th:only-of-type {\n",
       "        vertical-align: middle;\n",
       "    }\n",
       "\n",
       "    .dataframe tbody tr th {\n",
       "        vertical-align: top;\n",
       "    }\n",
       "\n",
       "    .dataframe thead tr th {\n",
       "        text-align: left;\n",
       "    }\n",
       "</style>\n",
       "<table border=\"1\" class=\"dataframe\">\n",
       "  <thead>\n",
       "    <tr>\n",
       "      <th></th>\n",
       "      <th>Accessories</th>\n",
       "      <th>Appliances</th>\n",
       "      <th>Art</th>\n",
       "      <th>Binders</th>\n",
       "      <th>Bookcases</th>\n",
       "      <th>Chairs</th>\n",
       "      <th>Copiers</th>\n",
       "      <th>Envelopes</th>\n",
       "      <th>Fasteners</th>\n",
       "      <th>Furnishings</th>\n",
       "      <th>Labels</th>\n",
       "      <th>Machines</th>\n",
       "      <th>Paper</th>\n",
       "      <th>Phones</th>\n",
       "      <th>Storage</th>\n",
       "      <th>Supplies</th>\n",
       "      <th>Tables</th>\n",
       "      <th>subcategory</th>\n",
       "    </tr>\n",
       "  </thead>\n",
       "  <tbody>\n",
       "    <tr>\n",
       "      <th>0</th>\n",
       "      <td>0</td>\n",
       "      <td>0</td>\n",
       "      <td>0</td>\n",
       "      <td>0</td>\n",
       "      <td>0</td>\n",
       "      <td>0</td>\n",
       "      <td>0</td>\n",
       "      <td>0</td>\n",
       "      <td>0</td>\n",
       "      <td>0</td>\n",
       "      <td>0</td>\n",
       "      <td>0</td>\n",
       "      <td>0</td>\n",
       "      <td>0</td>\n",
       "      <td>1</td>\n",
       "      <td>0</td>\n",
       "      <td>0</td>\n",
       "      <td>Storage</td>\n",
       "    </tr>\n",
       "    <tr>\n",
       "      <th>1</th>\n",
       "      <td>0</td>\n",
       "      <td>0</td>\n",
       "      <td>0</td>\n",
       "      <td>0</td>\n",
       "      <td>0</td>\n",
       "      <td>0</td>\n",
       "      <td>0</td>\n",
       "      <td>0</td>\n",
       "      <td>0</td>\n",
       "      <td>0</td>\n",
       "      <td>0</td>\n",
       "      <td>0</td>\n",
       "      <td>1</td>\n",
       "      <td>0</td>\n",
       "      <td>0</td>\n",
       "      <td>0</td>\n",
       "      <td>0</td>\n",
       "      <td>Paper</td>\n",
       "    </tr>\n",
       "    <tr>\n",
       "      <th>2</th>\n",
       "      <td>0</td>\n",
       "      <td>0</td>\n",
       "      <td>0</td>\n",
       "      <td>0</td>\n",
       "      <td>0</td>\n",
       "      <td>0</td>\n",
       "      <td>0</td>\n",
       "      <td>0</td>\n",
       "      <td>0</td>\n",
       "      <td>0</td>\n",
       "      <td>0</td>\n",
       "      <td>0</td>\n",
       "      <td>0</td>\n",
       "      <td>0</td>\n",
       "      <td>1</td>\n",
       "      <td>0</td>\n",
       "      <td>0</td>\n",
       "      <td>Storage</td>\n",
       "    </tr>\n",
       "    <tr>\n",
       "      <th>3</th>\n",
       "      <td>0</td>\n",
       "      <td>0</td>\n",
       "      <td>0</td>\n",
       "      <td>0</td>\n",
       "      <td>0</td>\n",
       "      <td>0</td>\n",
       "      <td>0</td>\n",
       "      <td>0</td>\n",
       "      <td>0</td>\n",
       "      <td>1</td>\n",
       "      <td>0</td>\n",
       "      <td>0</td>\n",
       "      <td>0</td>\n",
       "      <td>0</td>\n",
       "      <td>0</td>\n",
       "      <td>0</td>\n",
       "      <td>0</td>\n",
       "      <td>Furnishings</td>\n",
       "    </tr>\n",
       "    <tr>\n",
       "      <th>4</th>\n",
       "      <td>0</td>\n",
       "      <td>0</td>\n",
       "      <td>0</td>\n",
       "      <td>0</td>\n",
       "      <td>0</td>\n",
       "      <td>0</td>\n",
       "      <td>0</td>\n",
       "      <td>0</td>\n",
       "      <td>0</td>\n",
       "      <td>0</td>\n",
       "      <td>0</td>\n",
       "      <td>0</td>\n",
       "      <td>1</td>\n",
       "      <td>0</td>\n",
       "      <td>0</td>\n",
       "      <td>0</td>\n",
       "      <td>0</td>\n",
       "      <td>Paper</td>\n",
       "    </tr>\n",
       "  </tbody>\n",
       "</table>\n",
       "</div>"
      ],
      "text/plain": [
       "  Accessories Appliances Art Binders Bookcases Chairs Copiers Envelopes  \\\n",
       "0           0          0   0       0         0      0       0         0   \n",
       "1           0          0   0       0         0      0       0         0   \n",
       "2           0          0   0       0         0      0       0         0   \n",
       "3           0          0   0       0         0      0       0         0   \n",
       "4           0          0   0       0         0      0       0         0   \n",
       "\n",
       "  Fasteners Furnishings Labels Machines Paper Phones Storage Supplies Tables  \\\n",
       "0         0           0      0        0     0      0       1        0      0   \n",
       "1         0           0      0        0     1      0       0        0      0   \n",
       "2         0           0      0        0     0      0       1        0      0   \n",
       "3         0           1      0        0     0      0       0        0      0   \n",
       "4         0           0      0        0     1      0       0        0      0   \n",
       "\n",
       "   subcategory  \n",
       "0      Storage  \n",
       "1        Paper  \n",
       "2      Storage  \n",
       "3  Furnishings  \n",
       "4        Paper  "
      ]
     },
     "execution_count": 29,
     "metadata": {},
     "output_type": "execute_result"
    }
   ],
   "source": [
    "# Put into a dataframe to get column names\n",
    "encoded_df = pd.DataFrame(dense_array, columns=ohe.categories_, dtype=int)\n",
    "\n",
    "# Add original back in (just to check)\n",
    "encoded_df['subcategory'] = retail_df['subcategory']\n",
    "\n",
    "# Show\n",
    "encoded_df.head()"
   ]
  },
  {
   "cell_type": "markdown",
   "metadata": {
    "colab_type": "text",
    "id": "SjUvNj4R5JKp"
   },
   "source": [
    "A noteworthy advantage of using `OneHotEncoder` over `pd.get_dummies` is that when calling `.transform()` on new data, the `OneHotEncoder` will simply ignore any new categorical values that it hadn't seen when fitting, whereas for `pd.get_dummies`, every categorical value will be turned into an encoded column. This is advantageous for gracefully handling cases when there are new categorical values occurring in your test set or new incoming data."
   ]
  },
  {
   "cell_type": "markdown",
   "metadata": {},
   "source": [
    "### Label Encoding"
   ]
  },
  {
   "cell_type": "markdown",
   "metadata": {},
   "source": [
    "The other major type of categorical-to-numerical encoding is called Label Encoding. This is suitable for when the categories have some inherent ordering to them, (i.e. the data is ordinal, not nominal). We can exploit this ordinality to make smarter encodings.\n",
    "\n",
    "For example, let's take a look at the `order priority` column from our retail dataset:"
   ]
  },
  {
   "cell_type": "code",
   "execution_count": 30,
   "metadata": {},
   "outputs": [
    {
     "data": {
      "text/plain": [
       "array(['High', 'Medium', 'Critical', 'Low'], dtype=object)"
      ]
     },
     "execution_count": 30,
     "metadata": {},
     "output_type": "execute_result"
    }
   ],
   "source": [
    "retail_df['order_priority'].unique()"
   ]
  },
  {
   "cell_type": "markdown",
   "metadata": {
    "colab_type": "text",
    "id": "SjUvNj4R5JKp"
   },
   "source": [
    "In this case, there is a logical order to the categorical values, as presumably Medium is greater than Low, High is greater than Medium, and Critical is greater than High. \n",
    "\n",
    "We can encode ordinal data in pandas using a dictionary map and compare back to the original (we would then discard the original column):"
   ]
  },
  {
   "cell_type": "code",
   "execution_count": 31,
   "metadata": {
    "colab": {},
    "colab_type": "code",
    "id": "ZvZXlY_T5JKq",
    "outputId": "75e5897e-8f74-4c7f-e6df-8d4351d98683"
   },
   "outputs": [
    {
     "data": {
      "text/html": [
       "<div>\n",
       "<style scoped>\n",
       "    .dataframe tbody tr th:only-of-type {\n",
       "        vertical-align: middle;\n",
       "    }\n",
       "\n",
       "    .dataframe tbody tr th {\n",
       "        vertical-align: top;\n",
       "    }\n",
       "\n",
       "    .dataframe thead th {\n",
       "        text-align: right;\n",
       "    }\n",
       "</style>\n",
       "<table border=\"1\" class=\"dataframe\">\n",
       "  <thead>\n",
       "    <tr style=\"text-align: right;\">\n",
       "      <th></th>\n",
       "      <th>order_priority</th>\n",
       "      <th>order_priority</th>\n",
       "    </tr>\n",
       "  </thead>\n",
       "  <tbody>\n",
       "    <tr>\n",
       "      <th>17828</th>\n",
       "      <td>Medium</td>\n",
       "      <td>1</td>\n",
       "    </tr>\n",
       "    <tr>\n",
       "      <th>3110</th>\n",
       "      <td>High</td>\n",
       "      <td>2</td>\n",
       "    </tr>\n",
       "    <tr>\n",
       "      <th>26479</th>\n",
       "      <td>Medium</td>\n",
       "      <td>1</td>\n",
       "    </tr>\n",
       "    <tr>\n",
       "      <th>17792</th>\n",
       "      <td>High</td>\n",
       "      <td>2</td>\n",
       "    </tr>\n",
       "    <tr>\n",
       "      <th>6392</th>\n",
       "      <td>Low</td>\n",
       "      <td>0</td>\n",
       "    </tr>\n",
       "    <tr>\n",
       "      <th>44127</th>\n",
       "      <td>Critical</td>\n",
       "      <td>3</td>\n",
       "    </tr>\n",
       "    <tr>\n",
       "      <th>10439</th>\n",
       "      <td>Medium</td>\n",
       "      <td>1</td>\n",
       "    </tr>\n",
       "    <tr>\n",
       "      <th>6928</th>\n",
       "      <td>High</td>\n",
       "      <td>2</td>\n",
       "    </tr>\n",
       "    <tr>\n",
       "      <th>35697</th>\n",
       "      <td>Medium</td>\n",
       "      <td>1</td>\n",
       "    </tr>\n",
       "    <tr>\n",
       "      <th>43609</th>\n",
       "      <td>Critical</td>\n",
       "      <td>3</td>\n",
       "    </tr>\n",
       "  </tbody>\n",
       "</table>\n",
       "</div>"
      ],
      "text/plain": [
       "       order_priority  order_priority\n",
       "17828          Medium               1\n",
       "3110             High               2\n",
       "26479          Medium               1\n",
       "17792            High               2\n",
       "6392              Low               0\n",
       "44127        Critical               3\n",
       "10439          Medium               1\n",
       "6928             High               2\n",
       "35697          Medium               1\n",
       "43609        Critical               3"
      ]
     },
     "execution_count": 31,
     "metadata": {},
     "output_type": "execute_result"
    }
   ],
   "source": [
    "mapping = {'Low':0, 'Medium':1, 'High':2, 'Critical':3}\n",
    "mapped_data = retail_df['order_priority'].map(mapping)\n",
    "pd.concat([retail_df['order_priority'], mapped_data], axis=1).sample(10)"
   ]
  },
  {
   "cell_type": "markdown",
   "metadata": {},
   "source": [
    "Remember that if using a label-encoded feature as a predictor in a model, the values will now be treated numerically. For example, if using the `order_priority` encoded above, the value of 'Critical' is now 3 times greater than the value for 'Medium', and 'High' is twice as much as 'Medium'. In most ordinal cases, it can make sense to work with our data this way, but it is important to be aware of this point and think about the consequences."
   ]
  },
  {
   "cell_type": "markdown",
   "metadata": {},
   "source": [
    "We can use sklearn's built-in OrdinalEncoder to achieve the same transformation. By default it will assign the integers alphabetically, but we can use the `categories` argument to pass in an ordered list of the categorical values to be encoded. _(Note: The Ordinal Encoder expects a 2D array of data, as it can be used on multiple features at once.)_"
   ]
  },
  {
   "cell_type": "code",
   "execution_count": 45,
   "metadata": {},
   "outputs": [
    {
     "data": {
      "text/plain": [
       "array([[2.],\n",
       "       [2.],\n",
       "       [1.],\n",
       "       ...,\n",
       "       [1.],\n",
       "       [1.],\n",
       "       [1.]])"
      ]
     },
     "execution_count": 45,
     "metadata": {},
     "output_type": "execute_result"
    }
   ],
   "source": [
    "from sklearn.preprocessing import OrdinalEncoder\n",
    "\n",
    "oe = OrdinalEncoder(categories=[['Low','Medium','High','Critical']])\n",
    "oe.fit_transform(pd.DataFrame(retail_df['order_priority']))"
   ]
  },
  {
   "cell_type": "markdown",
   "metadata": {},
   "source": [
    "In this case it is less clear which numerical value has been applied to which categorical. We can check this by inspecting the `categories_` attribute of the fitted object:"
   ]
  },
  {
   "cell_type": "code",
   "execution_count": 46,
   "metadata": {},
   "outputs": [
    {
     "data": {
      "text/plain": [
       "[array(['Low', 'Medium', 'High', 'Critical'], dtype=object)]"
      ]
     },
     "execution_count": 46,
     "metadata": {},
     "output_type": "execute_result"
    }
   ],
   "source": [
    "oe.categories_"
   ]
  },
  {
   "cell_type": "markdown",
   "metadata": {
    "colab_type": "text",
    "id": "eEE-ZTTM5JKs"
   },
   "source": [
    "Label encoding can also be used as an easy way to create categorical target labels (i.e. dependent variables) for multi-class classification problems. We can encode from a set of labels into numeric values using scikit-learn's [label encoder](https://scikit-learn.org/stable/modules/generated/sklearn.preprocessing.LabelEncoder.html#sklearn.preprocessing.LabelEncoder). A column which has $n$ distinct categories in it will have those values replaced by $0$ through $n-1$.  This is helpful because certain classification algorithms require having numerical values in the dependent variable."
   ]
  },
  {
   "cell_type": "markdown",
   "metadata": {},
   "source": [
    "For example, let's take a look at the order priority feature. Perhaps this time we are interested in predicting which orders will have what priority, based upon the region, product category, shipping cost, etc."
   ]
  },
  {
   "cell_type": "code",
   "execution_count": 32,
   "metadata": {
    "colab": {},
    "colab_type": "code",
    "id": "FsCleVhu5JKs",
    "outputId": "3541456d-af96-4378-bf55-b04475816903"
   },
   "outputs": [
    {
     "data": {
      "text/plain": [
       "array([1, 1, 3, ..., 3, 3, 3])"
      ]
     },
     "execution_count": 32,
     "metadata": {},
     "output_type": "execute_result"
    }
   ],
   "source": [
    "from sklearn.preprocessing import LabelEncoder\n",
    "\n",
    "# Instantiate the label encoder\n",
    "le = LabelEncoder()\n",
    "\n",
    "# Fit and transform the order priority column\n",
    "le.fit_transform(retail_df['order_priority'])"
   ]
  },
  {
   "cell_type": "code",
   "execution_count": 33,
   "metadata": {},
   "outputs": [
    {
     "data": {
      "text/plain": [
       "array(['Critical', 'High', 'Low', 'Medium'], dtype=object)"
      ]
     },
     "execution_count": 33,
     "metadata": {},
     "output_type": "execute_result"
    }
   ],
   "source": [
    "le.classes_"
   ]
  },
  {
   "cell_type": "markdown",
   "metadata": {},
   "source": [
    "As you can see, sklearn has applied the class labels alphabetically, (i.e. it assumes the column is meant to be treated nominally, not ordinally). For this reason, the LabelEncoder should only be used for encoding target variables for classification. "
   ]
  },
  {
   "cell_type": "markdown",
   "metadata": {
    "colab_type": "text",
    "id": "L2ogK7su5JKy"
   },
   "source": [
    "Remember, we need to be very careful when we apply categorical-to-numerical encodings. We must make sure we use the appropriate encodings for the type of data we're working with (i.e. nominal vs. ordinal). This is a common error in machine learning: a categorical is encoded as numeric, and then the model will be fit as though the values are ordinal, leading to an error which is not readily apparent."
   ]
  },
  {
   "cell_type": "markdown",
   "metadata": {
    "colab_type": "text",
    "id": "RRT59IGD5JKy"
   },
   "source": [
    "### Binning data\n",
    "\n",
    "Sometimes we care less about the actual values than we do about a discrete range. We might want to bin our customers into age ranges and treat them categorically, rather than as a numerical range. The `pd.cut` function allows one to do this easily. For example, let's say instead of looking at profit margin above 15% as we did before, we are now being told by the business to look at different categories of profit: low, medium, and high."
   ]
  },
  {
   "cell_type": "markdown",
   "metadata": {
    "colab_type": "text",
    "id": "NTmJgDn25JKz"
   },
   "source": [
    "---\n",
    "\n",
    "#### Exercise 4\n",
    "\n",
    "1. For the BrainStation retail data, use the `pd.cut` function to change the profit margin into bins of unprofitable, low, medium, and high, where unprofitable is 0 or negative margin, low is above 0 to 15%, medium is greater than 15% to 30%, and high is greater 30%.\n",
    "\n",
    "---"
   ]
  },
  {
   "cell_type": "code",
   "execution_count": null,
   "metadata": {},
   "outputs": [],
   "source": []
  },
  {
   "cell_type": "markdown",
   "metadata": {
    "colab_type": "text",
    "id": "v27okcya5JK2"
   },
   "source": [
    "### Interaction terms\n",
    "\n",
    "If we are creating a model matrix, we might end up having some interactions between features. For example, there might been an effect of the shipping cost as a proportion of the sale price:"
   ]
  },
  {
   "cell_type": "code",
   "execution_count": 37,
   "metadata": {},
   "outputs": [
    {
     "data": {
      "text/html": [
       "<div>\n",
       "<style scoped>\n",
       "    .dataframe tbody tr th:only-of-type {\n",
       "        vertical-align: middle;\n",
       "    }\n",
       "\n",
       "    .dataframe tbody tr th {\n",
       "        vertical-align: top;\n",
       "    }\n",
       "\n",
       "    .dataframe thead th {\n",
       "        text-align: right;\n",
       "    }\n",
       "</style>\n",
       "<table border=\"1\" class=\"dataframe\">\n",
       "  <thead>\n",
       "    <tr style=\"text-align: right;\">\n",
       "      <th></th>\n",
       "      <th>Market</th>\n",
       "      <th>Category</th>\n",
       "      <th>subcategory</th>\n",
       "      <th>order_priority</th>\n",
       "      <th>sales</th>\n",
       "      <th>quantity</th>\n",
       "      <th>profit</th>\n",
       "      <th>shipping_cost</th>\n",
       "      <th>margin_gt_15</th>\n",
       "      <th>ship_pct</th>\n",
       "    </tr>\n",
       "  </thead>\n",
       "  <tbody>\n",
       "    <tr>\n",
       "      <th>0</th>\n",
       "      <td>EMEA</td>\n",
       "      <td>Office Supplies</td>\n",
       "      <td>Storage</td>\n",
       "      <td>High</td>\n",
       "      <td>66.12</td>\n",
       "      <td>4</td>\n",
       "      <td>29.64</td>\n",
       "      <td>8.17</td>\n",
       "      <td>1</td>\n",
       "      <td>12.356322</td>\n",
       "    </tr>\n",
       "    <tr>\n",
       "      <th>1</th>\n",
       "      <td>EU</td>\n",
       "      <td>Office Supplies</td>\n",
       "      <td>Paper</td>\n",
       "      <td>High</td>\n",
       "      <td>44.87</td>\n",
       "      <td>3</td>\n",
       "      <td>-26.06</td>\n",
       "      <td>4.82</td>\n",
       "      <td>0</td>\n",
       "      <td>10.742144</td>\n",
       "    </tr>\n",
       "    <tr>\n",
       "      <th>2</th>\n",
       "      <td>Africa</td>\n",
       "      <td>Office Supplies</td>\n",
       "      <td>Storage</td>\n",
       "      <td>Medium</td>\n",
       "      <td>408.30</td>\n",
       "      <td>2</td>\n",
       "      <td>106.14</td>\n",
       "      <td>35.46</td>\n",
       "      <td>1</td>\n",
       "      <td>8.684791</td>\n",
       "    </tr>\n",
       "    <tr>\n",
       "      <th>3</th>\n",
       "      <td>APAC</td>\n",
       "      <td>Furniture</td>\n",
       "      <td>Furnishings</td>\n",
       "      <td>Medium</td>\n",
       "      <td>113.67</td>\n",
       "      <td>5</td>\n",
       "      <td>37.77</td>\n",
       "      <td>4.70</td>\n",
       "      <td>1</td>\n",
       "      <td>4.134776</td>\n",
       "    </tr>\n",
       "    <tr>\n",
       "      <th>4</th>\n",
       "      <td>APAC</td>\n",
       "      <td>Office Supplies</td>\n",
       "      <td>Paper</td>\n",
       "      <td>Medium</td>\n",
       "      <td>55.24</td>\n",
       "      <td>2</td>\n",
       "      <td>15.34</td>\n",
       "      <td>1.80</td>\n",
       "      <td>1</td>\n",
       "      <td>3.258508</td>\n",
       "    </tr>\n",
       "  </tbody>\n",
       "</table>\n",
       "</div>"
      ],
      "text/plain": [
       "   Market         Category  subcategory order_priority   sales  quantity  \\\n",
       "0    EMEA  Office Supplies      Storage           High   66.12         4   \n",
       "1      EU  Office Supplies        Paper           High   44.87         3   \n",
       "2  Africa  Office Supplies      Storage         Medium  408.30         2   \n",
       "3    APAC        Furniture  Furnishings         Medium  113.67         5   \n",
       "4    APAC  Office Supplies        Paper         Medium   55.24         2   \n",
       "\n",
       "   profit  shipping_cost  margin_gt_15   ship_pct  \n",
       "0   29.64           8.17             1  12.356322  \n",
       "1  -26.06           4.82             0  10.742144  \n",
       "2  106.14          35.46             1   8.684791  \n",
       "3   37.77           4.70             1   4.134776  \n",
       "4   15.34           1.80             1   3.258508  "
      ]
     },
     "execution_count": 37,
     "metadata": {},
     "output_type": "execute_result"
    }
   ],
   "source": [
    "retail_df['ship_pct'] = retail_df['shipping_cost']/retail_df['sales']*100.0\n",
    "retail_df.iloc[:,3:].head()"
   ]
  },
  {
   "cell_type": "markdown",
   "metadata": {},
   "source": [
    "Or perhaps the difference between the order date and the shipped date is also predictive (of shipping cost? overall profit?). This new feature can be extremely useful for model interpretation, but notice it is a linear combination of other features so it may not augment the model's predictive power as much"
   ]
  },
  {
   "cell_type": "code",
   "execution_count": 38,
   "metadata": {},
   "outputs": [
    {
     "data": {
      "text/html": [
       "<div>\n",
       "<style scoped>\n",
       "    .dataframe tbody tr th:only-of-type {\n",
       "        vertical-align: middle;\n",
       "    }\n",
       "\n",
       "    .dataframe tbody tr th {\n",
       "        vertical-align: top;\n",
       "    }\n",
       "\n",
       "    .dataframe thead th {\n",
       "        text-align: right;\n",
       "    }\n",
       "</style>\n",
       "<table border=\"1\" class=\"dataframe\">\n",
       "  <thead>\n",
       "    <tr style=\"text-align: right;\">\n",
       "      <th></th>\n",
       "      <th>Market</th>\n",
       "      <th>Category</th>\n",
       "      <th>subcategory</th>\n",
       "      <th>order_priority</th>\n",
       "      <th>sales</th>\n",
       "      <th>quantity</th>\n",
       "      <th>profit</th>\n",
       "      <th>shipping_cost</th>\n",
       "      <th>margin_gt_15</th>\n",
       "      <th>ship_pct</th>\n",
       "      <th>timetoship</th>\n",
       "    </tr>\n",
       "  </thead>\n",
       "  <tbody>\n",
       "    <tr>\n",
       "      <th>0</th>\n",
       "      <td>EMEA</td>\n",
       "      <td>Office Supplies</td>\n",
       "      <td>Storage</td>\n",
       "      <td>High</td>\n",
       "      <td>66.12</td>\n",
       "      <td>4</td>\n",
       "      <td>29.64</td>\n",
       "      <td>8.17</td>\n",
       "      <td>1</td>\n",
       "      <td>12.356322</td>\n",
       "      <td>4 days</td>\n",
       "    </tr>\n",
       "    <tr>\n",
       "      <th>1</th>\n",
       "      <td>EU</td>\n",
       "      <td>Office Supplies</td>\n",
       "      <td>Paper</td>\n",
       "      <td>High</td>\n",
       "      <td>44.87</td>\n",
       "      <td>3</td>\n",
       "      <td>-26.06</td>\n",
       "      <td>4.82</td>\n",
       "      <td>0</td>\n",
       "      <td>10.742144</td>\n",
       "      <td>4 days</td>\n",
       "    </tr>\n",
       "    <tr>\n",
       "      <th>2</th>\n",
       "      <td>Africa</td>\n",
       "      <td>Office Supplies</td>\n",
       "      <td>Storage</td>\n",
       "      <td>Medium</td>\n",
       "      <td>408.30</td>\n",
       "      <td>2</td>\n",
       "      <td>106.14</td>\n",
       "      <td>35.46</td>\n",
       "      <td>1</td>\n",
       "      <td>8.684791</td>\n",
       "      <td>5 days</td>\n",
       "    </tr>\n",
       "    <tr>\n",
       "      <th>3</th>\n",
       "      <td>APAC</td>\n",
       "      <td>Furniture</td>\n",
       "      <td>Furnishings</td>\n",
       "      <td>Medium</td>\n",
       "      <td>113.67</td>\n",
       "      <td>5</td>\n",
       "      <td>37.77</td>\n",
       "      <td>4.70</td>\n",
       "      <td>1</td>\n",
       "      <td>4.134776</td>\n",
       "      <td>7 days</td>\n",
       "    </tr>\n",
       "    <tr>\n",
       "      <th>4</th>\n",
       "      <td>APAC</td>\n",
       "      <td>Office Supplies</td>\n",
       "      <td>Paper</td>\n",
       "      <td>Medium</td>\n",
       "      <td>55.24</td>\n",
       "      <td>2</td>\n",
       "      <td>15.34</td>\n",
       "      <td>1.80</td>\n",
       "      <td>1</td>\n",
       "      <td>3.258508</td>\n",
       "      <td>7 days</td>\n",
       "    </tr>\n",
       "  </tbody>\n",
       "</table>\n",
       "</div>"
      ],
      "text/plain": [
       "   Market         Category  subcategory order_priority   sales  quantity  \\\n",
       "0    EMEA  Office Supplies      Storage           High   66.12         4   \n",
       "1      EU  Office Supplies        Paper           High   44.87         3   \n",
       "2  Africa  Office Supplies      Storage         Medium  408.30         2   \n",
       "3    APAC        Furniture  Furnishings         Medium  113.67         5   \n",
       "4    APAC  Office Supplies        Paper         Medium   55.24         2   \n",
       "\n",
       "   profit  shipping_cost  margin_gt_15   ship_pct timetoship  \n",
       "0   29.64           8.17             1  12.356322     4 days  \n",
       "1  -26.06           4.82             0  10.742144     4 days  \n",
       "2  106.14          35.46             1   8.684791     5 days  \n",
       "3   37.77           4.70             1   4.134776     7 days  \n",
       "4   15.34           1.80             1   3.258508     7 days  "
      ]
     },
     "execution_count": 38,
     "metadata": {},
     "output_type": "execute_result"
    }
   ],
   "source": [
    "retail_df['timetoship'] = retail_df['ship_date'] - retail_df['order_date']\n",
    "retail_df.iloc[:, 3:].head()"
   ]
  },
  {
   "cell_type": "markdown",
   "metadata": {
    "colab_type": "text",
    "id": "v27okcya5JK2"
   },
   "source": [
    "There may also be other features at a different level in the data model we could engineer. For customer-level data these could include things like a customer's purchase frequency or average amount spent which could be predictive of their overall spending behavior on a transactional level. For our BrainStation retail data, perhaps the average sales amount per category could also be predictive, and we can add this engineer this feature and add:"
   ]
  },
  {
   "cell_type": "code",
   "execution_count": 39,
   "metadata": {},
   "outputs": [
    {
     "data": {
      "text/plain": [
       "Category\n",
       "Furniture          453.25\n",
       "Office Supplies    135.64\n",
       "Technology         505.30\n",
       "Name: sales, dtype: float64"
      ]
     },
     "execution_count": 39,
     "metadata": {},
     "output_type": "execute_result"
    }
   ],
   "source": [
    "# Calculate the average sales by category\n",
    "mean_cat_sales = retail_df.groupby('Category')['sales'].mean().round(2)\n",
    "mean_cat_sales"
   ]
  },
  {
   "cell_type": "code",
   "execution_count": 40,
   "metadata": {},
   "outputs": [
    {
     "data": {
      "text/html": [
       "<div>\n",
       "<style scoped>\n",
       "    .dataframe tbody tr th:only-of-type {\n",
       "        vertical-align: middle;\n",
       "    }\n",
       "\n",
       "    .dataframe tbody tr th {\n",
       "        vertical-align: top;\n",
       "    }\n",
       "\n",
       "    .dataframe thead th {\n",
       "        text-align: right;\n",
       "    }\n",
       "</style>\n",
       "<table border=\"1\" class=\"dataframe\">\n",
       "  <thead>\n",
       "    <tr style=\"text-align: right;\">\n",
       "      <th></th>\n",
       "      <th>Category</th>\n",
       "      <th>subcategory</th>\n",
       "      <th>order_priority</th>\n",
       "      <th>sales</th>\n",
       "      <th>quantity</th>\n",
       "      <th>profit</th>\n",
       "      <th>shipping_cost</th>\n",
       "      <th>margin_gt_15</th>\n",
       "      <th>ship_pct</th>\n",
       "      <th>timetoship</th>\n",
       "      <th>Mean_Category_Sales</th>\n",
       "    </tr>\n",
       "  </thead>\n",
       "  <tbody>\n",
       "    <tr>\n",
       "      <th>0</th>\n",
       "      <td>Office Supplies</td>\n",
       "      <td>Storage</td>\n",
       "      <td>High</td>\n",
       "      <td>66.12</td>\n",
       "      <td>4</td>\n",
       "      <td>29.64</td>\n",
       "      <td>8.17</td>\n",
       "      <td>1</td>\n",
       "      <td>12.356322</td>\n",
       "      <td>4 days</td>\n",
       "      <td>135.64</td>\n",
       "    </tr>\n",
       "    <tr>\n",
       "      <th>1</th>\n",
       "      <td>Office Supplies</td>\n",
       "      <td>Paper</td>\n",
       "      <td>High</td>\n",
       "      <td>44.87</td>\n",
       "      <td>3</td>\n",
       "      <td>-26.06</td>\n",
       "      <td>4.82</td>\n",
       "      <td>0</td>\n",
       "      <td>10.742144</td>\n",
       "      <td>4 days</td>\n",
       "      <td>135.64</td>\n",
       "    </tr>\n",
       "    <tr>\n",
       "      <th>2</th>\n",
       "      <td>Office Supplies</td>\n",
       "      <td>Storage</td>\n",
       "      <td>Medium</td>\n",
       "      <td>408.30</td>\n",
       "      <td>2</td>\n",
       "      <td>106.14</td>\n",
       "      <td>35.46</td>\n",
       "      <td>1</td>\n",
       "      <td>8.684791</td>\n",
       "      <td>5 days</td>\n",
       "      <td>135.64</td>\n",
       "    </tr>\n",
       "    <tr>\n",
       "      <th>3</th>\n",
       "      <td>Furniture</td>\n",
       "      <td>Furnishings</td>\n",
       "      <td>Medium</td>\n",
       "      <td>113.67</td>\n",
       "      <td>5</td>\n",
       "      <td>37.77</td>\n",
       "      <td>4.70</td>\n",
       "      <td>1</td>\n",
       "      <td>4.134776</td>\n",
       "      <td>7 days</td>\n",
       "      <td>453.25</td>\n",
       "    </tr>\n",
       "    <tr>\n",
       "      <th>4</th>\n",
       "      <td>Office Supplies</td>\n",
       "      <td>Paper</td>\n",
       "      <td>Medium</td>\n",
       "      <td>55.24</td>\n",
       "      <td>2</td>\n",
       "      <td>15.34</td>\n",
       "      <td>1.80</td>\n",
       "      <td>1</td>\n",
       "      <td>3.258508</td>\n",
       "      <td>7 days</td>\n",
       "      <td>135.64</td>\n",
       "    </tr>\n",
       "  </tbody>\n",
       "</table>\n",
       "</div>"
      ],
      "text/plain": [
       "          Category  subcategory order_priority   sales  quantity  profit  \\\n",
       "0  Office Supplies      Storage           High   66.12         4   29.64   \n",
       "1  Office Supplies        Paper           High   44.87         3  -26.06   \n",
       "2  Office Supplies      Storage         Medium  408.30         2  106.14   \n",
       "3        Furniture  Furnishings         Medium  113.67         5   37.77   \n",
       "4  Office Supplies        Paper         Medium   55.24         2   15.34   \n",
       "\n",
       "   shipping_cost  margin_gt_15   ship_pct timetoship  Mean_Category_Sales  \n",
       "0           8.17             1  12.356322     4 days               135.64  \n",
       "1           4.82             0  10.742144     4 days               135.64  \n",
       "2          35.46             1   8.684791     5 days               135.64  \n",
       "3           4.70             1   4.134776     7 days               453.25  \n",
       "4           1.80             1   3.258508     7 days               135.64  "
      ]
     },
     "execution_count": 40,
     "metadata": {},
     "output_type": "execute_result"
    }
   ],
   "source": [
    "retail_df['Mean_Category_Sales'] = retail_df['Category'].map(mean_cat_sales)\n",
    "retail_df.iloc[:, 4:].head()"
   ]
  },
  {
   "cell_type": "markdown",
   "metadata": {
    "colab_type": "text",
    "id": "v27okcya5JK2"
   },
   "source": [
    "### Expert knowledge\n",
    "\n",
    "Expert knowledge is a key part of data science. In our examples so far, we have seen the need to carefully analyze the data, but there is always room for a human in the loop.\n",
    "\n",
    "Think of the calculation of chocolate sales. A model might run well on a combination of price, range, history, weather and competitor prices. However, unless we manually add in a term for 'Easter' we will almost certainly miss a large part of predictive power. To predict Easter was a favourite of Medieval Mathematicians: https://en.wikipedia.org/wiki/Computus. We can simply add in a term for the weeks preceding Easter, it varies enough over time that it is extremely hard to predict.\n",
    "\n",
    "Similarly, when modeling flight prices, it is easy to take into account any number of variables, but a large external factor is the presence or absence of school holidays in the region."
   ]
  },
  {
   "cell_type": "markdown",
   "metadata": {
    "colab_type": "text",
    "id": "SGTpDieg5JK2"
   },
   "source": [
    "---"
   ]
  },
  {
   "cell_type": "markdown",
   "metadata": {
    "colab_type": "text",
    "id": "qrUr2h-K5JK5"
   },
   "source": [
    "<div id=\"container\" style=\"position:relative;\">\n",
    "<div style=\"position:relative; float:right\"><img style=\"height:25px\"\"width: 50px\" src =\"https://drive.google.com/uc?export=view&id=14VoXUJftgptWtdNhtNYVm6cjVmEWpki1\" />\n",
    "</div>\n",
    "</div>"
   ]
  }
 ],
 "metadata": {
  "colab": {
   "collapsed_sections": [],
   "name": "Feature Engineering.ipynb",
   "provenance": []
  },
  "kernelspec": {
   "display_name": "Python 3 (ipykernel)",
   "language": "python",
   "name": "python3"
  },
  "language_info": {
   "codemirror_mode": {
    "name": "ipython",
    "version": 3
   },
   "file_extension": ".py",
   "mimetype": "text/x-python",
   "name": "python",
   "nbconvert_exporter": "python",
   "pygments_lexer": "ipython3",
   "version": "3.9.12"
  }
 },
 "nbformat": 4,
 "nbformat_minor": 4
}
